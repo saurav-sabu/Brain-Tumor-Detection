{
  "cells": [
    {
      "cell_type": "code",
      "execution_count": null,
      "metadata": {
        "id": "Ts2L5wCuxPOW"
      },
      "outputs": [],
      "source": [
        "# configuring the path of Kaggle.json file\n",
        "!mkdir -p ~/.kaggle\n",
        "!cp kaggle.json ~/.kaggle/\n",
        "!chmod 600 ~/.kaggle/kaggle.json"
      ]
    },
    {
      "cell_type": "code",
      "execution_count": null,
      "metadata": {
        "colab": {
          "base_uri": "https://localhost:8080/"
        },
        "id": "aePsR0AQxQaL",
        "outputId": "e17fba9f-f0fc-488b-ecdc-4e9cfb174e67"
      },
      "outputs": [
        {
          "name": "stdout",
          "output_type": "stream",
          "text": [
            "Downloading brain-tumor-mri-dataset.zip to /content\n",
            "100% 148M/149M [00:09<00:00, 18.6MB/s]\n",
            "100% 149M/149M [00:09<00:00, 17.0MB/s]\n"
          ]
        }
      ],
      "source": [
        "! kaggle datasets download -d masoudnickparvar/brain-tumor-mri-dataset"
      ]
    },
    {
      "cell_type": "code",
      "execution_count": null,
      "metadata": {
        "colab": {
          "base_uri": "https://localhost:8080/"
        },
        "id": "uKlVCDNnxkvi",
        "outputId": "afb030a1-52d1-4e5d-8710-0b379e4be47c"
      },
      "outputs": [
        {
          "name": "stdout",
          "output_type": "stream",
          "text": [
            "The dataset is extracted\n"
          ]
        }
      ],
      "source": [
        "from zipfile import ZipFile\n",
        "\n",
        "dataset = '/content/brain-tumor-mri-dataset.zip'\n",
        "\n",
        "with ZipFile(dataset, 'r') as zip:\n",
        "  zip.extractall()\n",
        "  print('The dataset is extracted')"
      ]
    },
    {
      "cell_type": "code",
      "execution_count": null,
      "metadata": {
        "id": "bJRr53ugxv5H"
      },
      "outputs": [],
      "source": [
        "import tensorflow as tf\n",
        "from tensorflow import keras\n",
        "from keras.models import Sequential\n",
        "from keras.layers import Conv2D,MaxPooling2D,Dense,Flatten,Dropout\n",
        "from keras.applications.vgg16 import VGG16\n",
        "\n",
        "\n",
        "import os\n",
        "import numpy as np\n",
        "import cv2\n",
        "import matplotlib.pyplot as plt\n",
        "from sklearn.utils import shuffle"
      ]
    },
    {
      "cell_type": "code",
      "execution_count": null,
      "metadata": {
        "id": "UYwqtIbEx_36"
      },
      "outputs": [],
      "source": [
        "X_train = []\n",
        "X_test = []\n",
        "y_train = []\n",
        "y_test = []\n",
        "\n",
        "labels = [\"glioma\",\"meningioma\",\"notumor\",\"pituitary\"]\n",
        "\n",
        "for i in labels:\n",
        "  folder_path = os.path.join(\"/content/Training/\",i)\n",
        "  for j in os.listdir(folder_path):\n",
        "    img = cv2.imread(os.path.join(folder_path,j))\n",
        "    img = cv2.resize(img,(224,224))\n",
        "    X_train.append(img)\n",
        "    y_train.append(labels.index(i))"
      ]
    },
    {
      "cell_type": "code",
      "execution_count": null,
      "metadata": {
        "id": "z7m6hOXq0vSE"
      },
      "outputs": [],
      "source": [
        "for i in labels:\n",
        "  folder_path = os.path.join(\"/content/Testing/\",i)\n",
        "  for j in os.listdir(folder_path):\n",
        "    img = cv2.imread(os.path.join(folder_path,j))\n",
        "    img = cv2.resize(img,(224,224))\n",
        "    X_test.append(img)\n",
        "    y_test.append(labels.index(i))"
      ]
    },
    {
      "cell_type": "code",
      "execution_count": null,
      "metadata": {
        "id": "QN-xeyOP1EYw"
      },
      "outputs": [],
      "source": [
        "X_train = np.array(X_train)\n",
        "X_test = np.array(X_test)\n",
        "y_train = np.array(y_train)\n",
        "y_test = np.array(y_test)"
      ]
    },
    {
      "cell_type": "code",
      "execution_count": null,
      "metadata": {
        "id": "3kzVZUUD1PI4"
      },
      "outputs": [],
      "source": [
        "X_train,y_train = shuffle(X_train,y_train,random_state=10)"
      ]
    },
    {
      "cell_type": "markdown",
      "metadata": {
        "id": "C9bRSJeAB0L9"
      },
      "source": [
        "### VGG NET ARCHITECTURE"
      ]
    },
    {
      "cell_type": "code",
      "execution_count": null,
      "metadata": {
        "id": "vCBqPyImBG7z"
      },
      "outputs": [],
      "source": [
        "from keras.applications.vgg16 import VGG16"
      ]
    },
    {
      "cell_type": "code",
      "execution_count": null,
      "metadata": {
        "colab": {
          "base_uri": "https://localhost:8080/"
        },
        "id": "liqGyFCrBI9L",
        "outputId": "aa5bed37-9b10-4a03-cff5-4ffd50a6977e"
      },
      "outputs": [
        {
          "name": "stdout",
          "output_type": "stream",
          "text": [
            "Downloading data from https://storage.googleapis.com/tensorflow/keras-applications/vgg16/vgg16_weights_tf_dim_ordering_tf_kernels_notop.h5\n",
            "58889256/58889256 [==============================] - 3s 0us/step\n"
          ]
        }
      ],
      "source": [
        "conv_base = VGG16(\n",
        "    weights=\"imagenet\",\n",
        "    include_top=False,\n",
        "    input_shape=(224,224,3)\n",
        ")"
      ]
    },
    {
      "cell_type": "code",
      "execution_count": null,
      "metadata": {
        "colab": {
          "base_uri": "https://localhost:8080/"
        },
        "id": "gYQGR3byBMP5",
        "outputId": "a10d00da-d071-4805-b4f7-aa35928bab35"
      },
      "outputs": [
        {
          "name": "stdout",
          "output_type": "stream",
          "text": [
            "Model: \"vgg16\"\n",
            "_________________________________________________________________\n",
            " Layer (type)                Output Shape              Param #   \n",
            "=================================================================\n",
            " input_1 (InputLayer)        [(None, 224, 224, 3)]     0         \n",
            "                                                                 \n",
            " block1_conv1 (Conv2D)       (None, 224, 224, 64)      1792      \n",
            "                                                                 \n",
            " block1_conv2 (Conv2D)       (None, 224, 224, 64)      36928     \n",
            "                                                                 \n",
            " block1_pool (MaxPooling2D)  (None, 112, 112, 64)      0         \n",
            "                                                                 \n",
            " block2_conv1 (Conv2D)       (None, 112, 112, 128)     73856     \n",
            "                                                                 \n",
            " block2_conv2 (Conv2D)       (None, 112, 112, 128)     147584    \n",
            "                                                                 \n",
            " block2_pool (MaxPooling2D)  (None, 56, 56, 128)       0         \n",
            "                                                                 \n",
            " block3_conv1 (Conv2D)       (None, 56, 56, 256)       295168    \n",
            "                                                                 \n",
            " block3_conv2 (Conv2D)       (None, 56, 56, 256)       590080    \n",
            "                                                                 \n",
            " block3_conv3 (Conv2D)       (None, 56, 56, 256)       590080    \n",
            "                                                                 \n",
            " block3_pool (MaxPooling2D)  (None, 28, 28, 256)       0         \n",
            "                                                                 \n",
            " block4_conv1 (Conv2D)       (None, 28, 28, 512)       1180160   \n",
            "                                                                 \n",
            " block4_conv2 (Conv2D)       (None, 28, 28, 512)       2359808   \n",
            "                                                                 \n",
            " block4_conv3 (Conv2D)       (None, 28, 28, 512)       2359808   \n",
            "                                                                 \n",
            " block4_pool (MaxPooling2D)  (None, 14, 14, 512)       0         \n",
            "                                                                 \n",
            " block5_conv1 (Conv2D)       (None, 14, 14, 512)       2359808   \n",
            "                                                                 \n",
            " block5_conv2 (Conv2D)       (None, 14, 14, 512)       2359808   \n",
            "                                                                 \n",
            " block5_conv3 (Conv2D)       (None, 14, 14, 512)       2359808   \n",
            "                                                                 \n",
            " block5_pool (MaxPooling2D)  (None, 7, 7, 512)         0         \n",
            "                                                                 \n",
            "=================================================================\n",
            "Total params: 14,714,688\n",
            "Trainable params: 14,714,688\n",
            "Non-trainable params: 0\n",
            "_________________________________________________________________\n"
          ]
        }
      ],
      "source": [
        "conv_base.summary()"
      ]
    },
    {
      "cell_type": "code",
      "execution_count": null,
      "metadata": {
        "id": "WZqAV-OEBNTA"
      },
      "outputs": [],
      "source": [
        "model1 = Sequential()\n",
        "\n",
        "model1.add(conv_base)\n",
        "\n",
        "model1.add(Flatten())\n",
        "model1.add(Dense(512,activation=\"relu\"))\n",
        "model1.add(Dense(512,activation=\"relu\"))\n",
        "model1.add(Dense(4,activation=\"softmax\"))\n"
      ]
    },
    {
      "cell_type": "code",
      "execution_count": null,
      "metadata": {
        "id": "6xSCgGTOBWKi"
      },
      "outputs": [],
      "source": [
        "conv_base.trainable = False"
      ]
    },
    {
      "cell_type": "code",
      "execution_count": null,
      "metadata": {
        "id": "204fLm_ZBWq6"
      },
      "outputs": [],
      "source": [
        "model1.compile(loss=\"sparse_categorical_crossentropy\",optimizer=\"adam\",metrics=[\"accuracy\"])"
      ]
    },
    {
      "cell_type": "code",
      "execution_count": null,
      "metadata": {
        "colab": {
          "base_uri": "https://localhost:8080/"
        },
        "id": "XvFdSMH4Beyr",
        "outputId": "0745cf83-5cec-4e5c-a360-213b00afe100"
      },
      "outputs": [
        {
          "name": "stdout",
          "output_type": "stream",
          "text": [
            "Epoch 1/25\n",
            "179/179 [==============================] - 52s 230ms/step - loss: 2.7155 - accuracy: 0.8454 - val_loss: 0.7950 - val_accuracy: 0.8780\n",
            "Epoch 2/25\n",
            "179/179 [==============================] - 37s 209ms/step - loss: 0.3617 - accuracy: 0.9342 - val_loss: 0.2159 - val_accuracy: 0.9443\n",
            "Epoch 3/25\n",
            "179/179 [==============================] - 36s 201ms/step - loss: 0.1877 - accuracy: 0.9610 - val_loss: 0.4226 - val_accuracy: 0.9420\n",
            "Epoch 4/25\n",
            "179/179 [==============================] - 37s 207ms/step - loss: 0.1435 - accuracy: 0.9697 - val_loss: 0.6827 - val_accuracy: 0.9100\n",
            "Epoch 5/25\n",
            "179/179 [==============================] - 37s 205ms/step - loss: 0.1776 - accuracy: 0.9722 - val_loss: 0.2478 - val_accuracy: 0.9527\n",
            "Epoch 6/25\n",
            "179/179 [==============================] - 37s 204ms/step - loss: 0.0940 - accuracy: 0.9849 - val_loss: 0.4593 - val_accuracy: 0.9443\n",
            "Epoch 7/25\n",
            "179/179 [==============================] - 37s 205ms/step - loss: 0.2459 - accuracy: 0.9708 - val_loss: 0.6834 - val_accuracy: 0.9352\n",
            "Epoch 8/25\n",
            "179/179 [==============================] - 37s 205ms/step - loss: 0.1677 - accuracy: 0.9795 - val_loss: 0.4900 - val_accuracy: 0.9542\n",
            "Epoch 9/25\n",
            "179/179 [==============================] - 37s 206ms/step - loss: 0.1452 - accuracy: 0.9825 - val_loss: 0.3613 - val_accuracy: 0.9573\n",
            "Epoch 10/25\n",
            "179/179 [==============================] - 37s 205ms/step - loss: 0.0598 - accuracy: 0.9876 - val_loss: 0.5162 - val_accuracy: 0.9542\n",
            "Epoch 11/25\n",
            "179/179 [==============================] - 36s 204ms/step - loss: 0.0473 - accuracy: 0.9919 - val_loss: 0.4794 - val_accuracy: 0.9588\n",
            "Epoch 12/25\n",
            "179/179 [==============================] - 37s 205ms/step - loss: 0.0732 - accuracy: 0.9900 - val_loss: 0.2688 - val_accuracy: 0.9733\n",
            "Epoch 13/25\n",
            "179/179 [==============================] - 37s 206ms/step - loss: 0.0825 - accuracy: 0.9881 - val_loss: 0.4720 - val_accuracy: 0.9474\n",
            "Epoch 14/25\n",
            "179/179 [==============================] - 37s 204ms/step - loss: 0.0362 - accuracy: 0.9942 - val_loss: 0.2990 - val_accuracy: 0.9687\n",
            "Epoch 15/25\n",
            "179/179 [==============================] - 37s 204ms/step - loss: 0.0097 - accuracy: 0.9975 - val_loss: 0.3129 - val_accuracy: 0.9718\n",
            "Epoch 16/25\n",
            "179/179 [==============================] - 37s 205ms/step - loss: 0.0063 - accuracy: 0.9984 - val_loss: 0.6055 - val_accuracy: 0.9512\n",
            "Epoch 17/25\n",
            "179/179 [==============================] - 36s 204ms/step - loss: 0.0866 - accuracy: 0.9900 - val_loss: 0.5617 - val_accuracy: 0.9535\n",
            "Epoch 18/25\n",
            "179/179 [==============================] - 37s 205ms/step - loss: 0.0596 - accuracy: 0.9898 - val_loss: 0.8236 - val_accuracy: 0.9466\n",
            "Epoch 19/25\n",
            "179/179 [==============================] - 36s 204ms/step - loss: 0.1092 - accuracy: 0.9874 - val_loss: 0.5452 - val_accuracy: 0.9611\n",
            "Epoch 20/25\n",
            "179/179 [==============================] - 37s 205ms/step - loss: 0.1216 - accuracy: 0.9849 - val_loss: 0.3830 - val_accuracy: 0.9718\n",
            "Epoch 21/25\n",
            "179/179 [==============================] - 37s 206ms/step - loss: 0.0573 - accuracy: 0.9904 - val_loss: 0.4641 - val_accuracy: 0.9580\n",
            "Epoch 22/25\n",
            "179/179 [==============================] - 36s 202ms/step - loss: 0.0427 - accuracy: 0.9939 - val_loss: 0.2896 - val_accuracy: 0.9764\n",
            "Epoch 23/25\n",
            "179/179 [==============================] - 37s 206ms/step - loss: 0.0503 - accuracy: 0.9928 - val_loss: 0.3432 - val_accuracy: 0.9687\n",
            "Epoch 24/25\n",
            "179/179 [==============================] - 36s 202ms/step - loss: 0.0400 - accuracy: 0.9961 - val_loss: 0.2721 - val_accuracy: 0.9809\n",
            "Epoch 25/25\n",
            "179/179 [==============================] - 37s 206ms/step - loss: 3.8729e-04 - accuracy: 0.9998 - val_loss: 0.2322 - val_accuracy: 0.9863\n"
          ]
        }
      ],
      "source": [
        "history = model1.fit(X_train,y_train,epochs=25,validation_data=(X_test,y_test))"
      ]
    },
    {
      "cell_type": "code",
      "execution_count": null,
      "metadata": {
        "colab": {
          "base_uri": "https://localhost:8080/",
          "height": 282
        },
        "id": "XnuaAdtB9tHI",
        "outputId": "bdf285cf-e429-4414-d1cc-7f01bb2f1e75"
      },
      "outputs": [
        {
          "data": {
            "text/plain": [
              "<matplotlib.legend.Legend at 0x7fbc02056490>"
            ]
          },
          "execution_count": 23,
          "metadata": {},
          "output_type": "execute_result"
        },
        {
          "data": {
            "image/png": "[encoded data removed]",
            "text/plain": [
              "<Figure size 432x288 with 1 Axes>"
            ]
          },
          "metadata": {
            "needs_background": "light"
          },
          "output_type": "display_data"
        }
      ],
      "source": [
        "plt.plot(history.history[\"accuracy\"],label=\"train\")\n",
        "plt.plot(history.history[\"val_accuracy\"],label=\"val\")\n",
        "plt.legend()"
      ]
    },
    {
      "cell_type": "code",
      "execution_count": null,
      "metadata": {
        "colab": {
          "base_uri": "https://localhost:8080/",
          "height": 282
        },
        "id": "isgnXDvX9zai",
        "outputId": "598b9a39-e0ac-45bb-8d4f-124530af5b61"
      },
      "outputs": [
        {
          "data": {
            "text/plain": [
              "<matplotlib.legend.Legend at 0x7fbbebfb6820>"
            ]
          },
          "execution_count": 24,
          "metadata": {},
          "output_type": "execute_result"
        },
        {
          "data": {
            "image/png": "[encoded data removed]",
            "text/plain": [
              "<Figure size 432x288 with 1 Axes>"
            ]
          },
          "metadata": {
            "needs_background": "light"
          },
          "output_type": "display_data"
        }
      ],
      "source": [
        "plt.plot(history.history[\"loss\"],label=\"train\")\n",
        "plt.plot(history.history[\"val_loss\"],label=\"val\")\n",
        "plt.legend()"
      ]
    },
    {
      "cell_type": "code",
      "execution_count": null,
      "metadata": {
        "colab": {
          "base_uri": "https://localhost:8080/"
        },
        "id": "NMHK1RkSBnaD",
        "outputId": "cb602b45-51c8-409b-e52a-b619c6874817"
      },
      "outputs": [
        {
          "name": "stdout",
          "output_type": "stream",
          "text": [
            "41/41 [==============================] - 7s 165ms/step - loss: 0.2322 - accuracy: 0.9863\n"
          ]
        },
        {
          "data": {
            "text/plain": [
              "[0.23218804597854614, 0.986270010471344]"
            ]
          },
          "execution_count": 16,
          "metadata": {},
          "output_type": "execute_result"
        }
      ],
      "source": [
        "model1.evaluate(X_test,y_test)"
      ]
    },
    {
      "cell_type": "code",
      "execution_count": null,
      "metadata": {
        "colab": {
          "base_uri": "https://localhost:8080/"
        },
        "id": "ak6wTkNVVmjA",
        "outputId": "6b2f22b2-ae5b-4d70-db3a-0989cd9b23e8"
      },
      "outputs": [
        {
          "name": "stdout",
          "output_type": "stream",
          "text": [
            "41/41 [==============================] - 7s 166ms/step\n"
          ]
        },
        {
          "data": {
            "text/plain": [
              "array([0, 0, 0, ..., 3, 3, 3])"
            ]
          },
          "execution_count": 17,
          "metadata": {},
          "output_type": "execute_result"
        }
      ],
      "source": [
        "y_pred = model1.predict(X_test).argmax(axis=1)\n",
        "y_pred"
      ]
    },
    {
      "cell_type": "code",
      "execution_count": null,
      "metadata": {
        "id": "sr3QG-OLWP4P"
      },
      "outputs": [],
      "source": [
        "from sklearn.metrics import confusion_matrix,classification_report"
      ]
    },
    {
      "cell_type": "code",
      "execution_count": null,
      "metadata": {
        "id": "9JG_vOJxVvGR"
      },
      "outputs": [],
      "source": [
        "matrix = confusion_matrix(y_test,y_pred)"
      ]
    },
    {
      "cell_type": "code",
      "execution_count": null,
      "metadata": {
        "colab": {
          "base_uri": "https://localhost:8080/"
        },
        "id": "dj6YdzCuV0d8",
        "outputId": "e4c5bb24-a057-4ab2-e9cb-773785b9e1f1"
      },
      "outputs": [
        {
          "data": {
            "text/plain": [
              "array([[286,  14,   0,   0],\n",
              "       [  2, 302,   1,   1],\n",
              "       [  0,   0, 405,   0],\n",
              "       [  0,   0,   0, 300]])"
            ]
          },
          "execution_count": 29,
          "metadata": {},
          "output_type": "execute_result"
        }
      ],
      "source": [
        "matrix"
      ]
    },
    {
      "cell_type": "code",
      "execution_count": null,
      "metadata": {
        "colab": {
          "base_uri": "https://localhost:8080/"
        },
        "id": "6cSOrDWAV10x",
        "outputId": "c55f700d-d632-4f62-89fb-0da175c5936c"
      },
      "outputs": [
        {
          "name": "stdout",
          "output_type": "stream",
          "text": [
            "[286 302 405 300]\n",
            "[1009  991  905 1010]\n",
            "[ 2 14  1  1]\n",
            "[14  4  0  0]\n"
          ]
        }
      ],
      "source": [
        "FP = matrix.sum(axis=0) - np.diag(matrix)\n",
        "FN = matrix.sum(axis=1) - np.diag(matrix)\n",
        "TP = np.diag(matrix)\n",
        "TN = matrix.sum() - (FP + FN + TP)\n",
        "print(TP)\n",
        "print(TN)\n",
        "print(FP)\n",
        "print(FN)\n"
      ]
    },
    {
      "cell_type": "code",
      "execution_count": null,
      "metadata": {
        "colab": {
          "base_uri": "https://localhost:8080/"
        },
        "id": "F0DvEaEDWhPu",
        "outputId": "f61c9e2a-e9ae-4752-8e0f-39235164e8d3"
      },
      "outputs": [
        {
          "name": "stdout",
          "output_type": "stream",
          "text": [
            "              precision    recall  f1-score   support\n",
            "\n",
            "           0       0.99      0.95      0.97       300\n",
            "           1       0.96      0.99      0.97       306\n",
            "           2       1.00      1.00      1.00       405\n",
            "           3       1.00      1.00      1.00       300\n",
            "\n",
            "    accuracy                           0.99      1311\n",
            "   macro avg       0.99      0.99      0.99      1311\n",
            "weighted avg       0.99      0.99      0.99      1311\n",
            "\n"
          ]
        }
      ],
      "source": [
        "print(classification_report(y_test,y_pred))"
      ]
    },
    {
      "cell_type": "code",
      "execution_count": null,
      "metadata": {
        "id": "Rjb9LGZfE50K"
      },
      "outputs": [],
      "source": [
        "model1.save(\"CNN_MODEL_0_98627.h5\")"
      ]
    },
    {
      "cell_type": "markdown",
      "metadata": {
        "id": "UYJoHwRBB75_"
      },
      "source": [
        "### Resnet152 Architecture"
      ]
    },
    {
      "cell_type": "code",
      "execution_count": null,
      "metadata": {
        "id": "zRzn7-Y0BwdW"
      },
      "outputs": [],
      "source": [
        "from keras.applications.resnet import ResNet152"
      ]
    },
    {
      "cell_type": "code",
      "execution_count": null,
      "metadata": {
        "colab": {
          "base_uri": "https://localhost:8080/"
        },
        "id": "5X2TFf2mC06W",
        "outputId": "5a0641eb-627e-4905-d4f1-fab8be6892dd"
      },
      "outputs": [
        {
          "name": "stdout",
          "output_type": "stream",
          "text": [
            "Downloading data from https://storage.googleapis.com/tensorflow/keras-applications/resnet/resnet152_weights_tf_dim_ordering_tf_kernels_notop.h5\n",
            "234698864/234698864 [==============================] - 11s 0us/step\n"
          ]
        }
      ],
      "source": [
        "conv_base1 = ResNet152(\n",
        "    weights=\"imagenet\",\n",
        "    include_top=False,\n",
        "    input_shape=(224,224,3)\n",
        ")"
      ]
    },
    {
      "cell_type": "code",
      "execution_count": null,
      "metadata": {
        "colab": {
          "base_uri": "https://localhost:8080/"
        },
        "id": "qIkpfcMSC5KO",
        "outputId": "ab419dec-d0c0-4cd1-9f93-79f35a9aaa30"
      },
      "outputs": [
        {
          "name": "stdout",
          "output_type": "stream",
          "text": [
            "Model: \"resnet152\"\n",
            "__________________________________________________________________________________________________\n",
            " Layer (type)                   Output Shape         Param #     Connected to                     \n",
            "==================================================================================================\n",
            " input_2 (InputLayer)           [(None, 224, 224, 3  0           []                               \n",
            "                                )]                                                                \n",
            "                                                                                                  \n",
            " conv1_pad (ZeroPadding2D)      (None, 230, 230, 3)  0           ['input_2[0][0]']                \n",
            "                                                                                                  \n",
            " conv1_conv (Conv2D)            (None, 112, 112, 64  9472        ['conv1_pad[0][0]']              \n",
            "                                )                                                                 \n",
            "                                                                                                  \n",
            " conv1_bn (BatchNormalization)  (None, 112, 112, 64  256         ['conv1_conv[0][0]']             \n",
            "                                )                                                                 \n",
            "                                                                                                  \n",
            " conv1_relu (Activation)        (None, 112, 112, 64  0           ['conv1_bn[0][0]']               \n",
            "                                )                                                                 \n",
            "                                                                                                  \n",
            " pool1_pad (ZeroPadding2D)      (None, 114, 114, 64  0           ['conv1_relu[0][0]']             \n",
            "                                )                                                                 \n",
            "                                                                                                  \n",
            " pool1_pool (MaxPooling2D)      (None, 56, 56, 64)   0           ['pool1_pad[0][0]']              \n",
            "                                                                                                  \n",
            " conv2_block1_1_conv (Conv2D)   (None, 56, 56, 64)   4160        ['pool1_pool[0][0]']             \n",
            "                                                                                                  \n",
            " conv2_block1_1_bn (BatchNormal  (None, 56, 56, 64)  256         ['conv2_block1_1_conv[0][0]']    \n",
            " ization)                                                                                         \n",
            "                                                                                                  \n",
            " conv2_block1_1_relu (Activatio  (None, 56, 56, 64)  0           ['conv2_block1_1_bn[0][0]']      \n",
            " n)                                                                                               \n",
            "                                                                                                  \n",
            " conv2_block1_2_conv (Conv2D)   (None, 56, 56, 64)   36928       ['conv2_block1_1_relu[0][0]']    \n",
            "                                                                                                  \n",
            " conv2_block1_2_bn (BatchNormal  (None, 56, 56, 64)  256         ['conv2_block1_2_conv[0][0]']    \n",
            " ization)                                                                                         \n",
            "                                                                                                  \n",
            " conv2_block1_2_relu (Activatio  (None, 56, 56, 64)  0           ['conv2_block1_2_bn[0][0]']      \n",
            " n)                                                                                               \n",
            "                                                                                                  \n",
            " conv2_block1_0_conv (Conv2D)   (None, 56, 56, 256)  16640       ['pool1_pool[0][0]']             \n",
            "                                                                                                  \n",
            " conv2_block1_3_conv (Conv2D)   (None, 56, 56, 256)  16640       ['conv2_block1_2_relu[0][0]']    \n",
            "                                                                                                  \n",
            " conv2_block1_0_bn (BatchNormal  (None, 56, 56, 256)  1024       ['conv2_block1_0_conv[0][0]']    \n",
            " ization)                                                                                         \n",
            "                                                                                                  \n",
            " conv2_block1_3_bn (BatchNormal  (None, 56, 56, 256)  1024       ['conv2_block1_3_conv[0][0]']    \n",
            " ization)                                                                                         \n",
            "                                                                                                  \n",
            " conv2_block1_add (Add)         (None, 56, 56, 256)  0           ['conv2_block1_0_bn[0][0]',      \n",
            "                                                                  'conv2_block1_3_bn[0][0]']      \n",
            "                                                                                                  \n",
            " conv2_block1_out (Activation)  (None, 56, 56, 256)  0           ['conv2_block1_add[0][0]']       \n",
            "                                                                                                  \n",
            " conv2_block2_1_conv (Conv2D)   (None, 56, 56, 64)   16448       ['conv2_block1_out[0][0]']       \n",
            "                                                                                                  \n",
            " conv2_block2_1_bn (BatchNormal  (None, 56, 56, 64)  256         ['conv2_block2_1_conv[0][0]']    \n",
            " ization)                                                                                         \n",
            "                                                                                                  \n",
            " conv2_block2_1_relu (Activatio  (None, 56, 56, 64)  0           ['conv2_block2_1_bn[0][0]']      \n",
            " n)                                                                                               \n",
            "                                                                                                  \n",
            " conv2_block2_2_conv (Conv2D)   (None, 56, 56, 64)   36928       ['conv2_block2_1_relu[0][0]']    \n",
            "                                                                                                  \n",
            " conv2_block2_2_bn (BatchNormal  (None, 56, 56, 64)  256         ['conv2_block2_2_conv[0][0]']    \n",
            " ization)                                                                                         \n",
            "                                                                                                  \n",
            " conv2_block2_2_relu (Activatio  (None, 56, 56, 64)  0           ['conv2_block2_2_bn[0][0]']      \n",
            " n)                                                                                               \n",
            "                                                                                                  \n",
            " conv2_block2_3_conv (Conv2D)   (None, 56, 56, 256)  16640       ['conv2_block2_2_relu[0][0]']    \n",
            "                                                                                                  \n",
            " conv2_block2_3_bn (BatchNormal  (None, 56, 56, 256)  1024       ['conv2_block2_3_conv[0][0]']    \n",
            " ization)                                                                                         \n",
            "                                                                                                  \n",
            " conv2_block2_add (Add)         (None, 56, 56, 256)  0           ['conv2_block1_out[0][0]',       \n",
            "                                                                  'conv2_block2_3_bn[0][0]']      \n",
            "                                                                                                  \n",
            " conv2_block2_out (Activation)  (None, 56, 56, 256)  0           ['conv2_block2_add[0][0]']       \n",
            "                                                                                                  \n",
            " conv2_block3_1_conv (Conv2D)   (None, 56, 56, 64)   16448       ['conv2_block2_out[0][0]']       \n",
            "                                                                                                  \n",
            " conv2_block3_1_bn (BatchNormal  (None, 56, 56, 64)  256         ['conv2_block3_1_conv[0][0]']    \n",
            " ization)                                                                                         \n",
            "                                                                                                  \n",
            " conv2_block3_1_relu (Activatio  (None, 56, 56, 64)  0           ['conv2_block3_1_bn[0][0]']      \n",
            " n)                                                                                               \n",
            "                                                                                                  \n",
            " conv2_block3_2_conv (Conv2D)   (None, 56, 56, 64)   36928       ['conv2_block3_1_relu[0][0]']    \n",
            "                                                                                                  \n",
            " conv2_block3_2_bn (BatchNormal  (None, 56, 56, 64)  256         ['conv2_block3_2_conv[0][0]']    \n",
            " ization)                                                                                         \n",
            "                                                                                                  \n",
            " conv2_block3_2_relu (Activatio  (None, 56, 56, 64)  0           ['conv2_block3_2_bn[0][0]']      \n",
            " n)                                                                                               \n",
            "                                                                                                  \n",
            " conv2_block3_3_conv (Conv2D)   (None, 56, 56, 256)  16640       ['conv2_block3_2_relu[0][0]']    \n",
            "                                                                                                  \n",
            " conv2_block3_3_bn (BatchNormal  (None, 56, 56, 256)  1024       ['conv2_block3_3_conv[0][0]']    \n",
            " ization)                                                                                         \n",
            "                                                                                                  \n",
            " conv2_block3_add (Add)         (None, 56, 56, 256)  0           ['conv2_block2_out[0][0]',       \n",
            "                                                                  'conv2_block3_3_bn[0][0]']      \n",
            "                                                                                                  \n",
            " conv2_block3_out (Activation)  (None, 56, 56, 256)  0           ['conv2_block3_add[0][0]']       \n",
            "                                                                                                  \n",
            " conv3_block1_1_conv (Conv2D)   (None, 28, 28, 128)  32896       ['conv2_block3_out[0][0]']       \n",
            "                                                                                                  \n",
            " conv3_block1_1_bn (BatchNormal  (None, 28, 28, 128)  512        ['conv3_block1_1_conv[0][0]']    \n",
            " ization)                                                                                         \n",
            "                                                                                                  \n",
            " conv3_block1_1_relu (Activatio  (None, 28, 28, 128)  0          ['conv3_block1_1_bn[0][0]']      \n",
            " n)                                                                                               \n",
            "                                                                                                  \n",
            " conv3_block1_2_conv (Conv2D)   (None, 28, 28, 128)  147584      ['conv3_block1_1_relu[0][0]']    \n",
            "                                                                                                  \n",
            " conv3_block1_2_bn (BatchNormal  (None, 28, 28, 128)  512        ['conv3_block1_2_conv[0][0]']    \n",
            " ization)                                                                                         \n",
            "                                                                                                  \n",
            " conv3_block1_2_relu (Activatio  (None, 28, 28, 128)  0          ['conv3_block1_2_bn[0][0]']      \n",
            " n)                                                                                               \n",
            "                                                                                                  \n",
            " conv3_block1_0_conv (Conv2D)   (None, 28, 28, 512)  131584      ['conv2_block3_out[0][0]']       \n",
            "                                                                                                  \n",
            " conv3_block1_3_conv (Conv2D)   (None, 28, 28, 512)  66048       ['conv3_block1_2_relu[0][0]']    \n",
            "                                                                                                  \n",
            " conv3_block1_0_bn (BatchNormal  (None, 28, 28, 512)  2048       ['conv3_block1_0_conv[0][0]']    \n",
            " ization)                                                                                         \n",
            "                                                                                                  \n",
            " conv3_block1_3_bn (BatchNormal  (None, 28, 28, 512)  2048       ['conv3_block1_3_conv[0][0]']    \n",
            " ization)                                                                                         \n",
            "                                                                                                  \n",
            " conv3_block1_add (Add)         (None, 28, 28, 512)  0           ['conv3_block1_0_bn[0][0]',      \n",
            "                                                                  'conv3_block1_3_bn[0][0]']      \n",
            "                                                                                                  \n",
            " conv3_block1_out (Activation)  (None, 28, 28, 512)  0           ['conv3_block1_add[0][0]']       \n",
            "                                                                                                  \n",
            " conv3_block2_1_conv (Conv2D)   (None, 28, 28, 128)  65664       ['conv3_block1_out[0][0]']       \n",
            "                                                                                                  \n",
            " conv3_block2_1_bn (BatchNormal  (None, 28, 28, 128)  512        ['conv3_block2_1_conv[0][0]']    \n",
            " ization)                                                                                         \n",
            "                                                                                                  \n",
            " conv3_block2_1_relu (Activatio  (None, 28, 28, 128)  0          ['conv3_block2_1_bn[0][0]']      \n",
            " n)                                                                                               \n",
            "                                                                                                  \n",
            " conv3_block2_2_conv (Conv2D)   (None, 28, 28, 128)  147584      ['conv3_block2_1_relu[0][0]']    \n",
            "                                                                                                  \n",
            " conv3_block2_2_bn (BatchNormal  (None, 28, 28, 128)  512        ['conv3_block2_2_conv[0][0]']    \n",
            " ization)                                                                                         \n",
            "                                                                                                  \n",
            " conv3_block2_2_relu (Activatio  (None, 28, 28, 128)  0          ['conv3_block2_2_bn[0][0]']      \n",
            " n)                                                                                               \n",
            "                                                                                                  \n",
            " conv3_block2_3_conv (Conv2D)   (None, 28, 28, 512)  66048       ['conv3_block2_2_relu[0][0]']    \n",
            "                                                                                                  \n",
            " conv3_block2_3_bn (BatchNormal  (None, 28, 28, 512)  2048       ['conv3_block2_3_conv[0][0]']    \n",
            " ization)                                                                                         \n",
            "                                                                                                  \n",
            " conv3_block2_add (Add)         (None, 28, 28, 512)  0           ['conv3_block1_out[0][0]',       \n",
            "                                                                  'conv3_block2_3_bn[0][0]']      \n",
            "                                                                                                  \n",
            " conv3_block2_out (Activation)  (None, 28, 28, 512)  0           ['conv3_block2_add[0][0]']       \n",
            "                                                                                                  \n",
            " conv3_block3_1_conv (Conv2D)   (None, 28, 28, 128)  65664       ['conv3_block2_out[0][0]']       \n",
            "                                                                                                  \n",
            " conv3_block3_1_bn (BatchNormal  (None, 28, 28, 128)  512        ['conv3_block3_1_conv[0][0]']    \n",
            " ization)                                                                                         \n",
            "                                                                                                  \n",
            " conv3_block3_1_relu (Activatio  (None, 28, 28, 128)  0          ['conv3_block3_1_bn[0][0]']      \n",
            " n)                                                                                               \n",
            "                                                                                                  \n",
            " conv3_block3_2_conv (Conv2D)   (None, 28, 28, 128)  147584      ['conv3_block3_1_relu[0][0]']    \n",
            "                                                                                                  \n",
            " conv3_block3_2_bn (BatchNormal  (None, 28, 28, 128)  512        ['conv3_block3_2_conv[0][0]']    \n",
            " ization)                                                                                         \n",
            "                                                                                                  \n",
            " conv3_block3_2_relu (Activatio  (None, 28, 28, 128)  0          ['conv3_block3_2_bn[0][0]']      \n",
            " n)                                                                                               \n",
            "                                                                                                  \n",
            " conv3_block3_3_conv (Conv2D)   (None, 28, 28, 512)  66048       ['conv3_block3_2_relu[0][0]']    \n",
            "                                                                                                  \n",
            " conv3_block3_3_bn (BatchNormal  (None, 28, 28, 512)  2048       ['conv3_block3_3_conv[0][0]']    \n",
            " ization)                                                                                         \n",
            "                                                                                                  \n",
            " conv3_block3_add (Add)         (None, 28, 28, 512)  0           ['conv3_block2_out[0][0]',       \n",
            "                                                                  'conv3_block3_3_bn[0][0]']      \n",
            "                                                                                                  \n",
            " conv3_block3_out (Activation)  (None, 28, 28, 512)  0           ['conv3_block3_add[0][0]']       \n",
            "                                                                                                  \n",
            " conv3_block4_1_conv (Conv2D)   (None, 28, 28, 128)  65664       ['conv3_block3_out[0][0]']       \n",
            "                                                                                                  \n",
            " conv3_block4_1_bn (BatchNormal  (None, 28, 28, 128)  512        ['conv3_block4_1_conv[0][0]']    \n",
            " ization)                                                                                         \n",
            "                                                                                                  \n",
            " conv3_block4_1_relu (Activatio  (None, 28, 28, 128)  0          ['conv3_block4_1_bn[0][0]']      \n",
            " n)                                                                                               \n",
            "                                                                                                  \n",
            " conv3_block4_2_conv (Conv2D)   (None, 28, 28, 128)  147584      ['conv3_block4_1_relu[0][0]']    \n",
            "                                                                                                  \n",
            " conv3_block4_2_bn (BatchNormal  (None, 28, 28, 128)  512        ['conv3_block4_2_conv[0][0]']    \n",
            " ization)                                                                                         \n",
            "                                                                                                  \n",
            " conv3_block4_2_relu (Activatio  (None, 28, 28, 128)  0          ['conv3_block4_2_bn[0][0]']      \n",
            " n)                                                                                               \n",
            "                                                                                                  \n",
            " conv3_block4_3_conv (Conv2D)   (None, 28, 28, 512)  66048       ['conv3_block4_2_relu[0][0]']    \n",
            "                                                                                                  \n",
            " conv3_block4_3_bn (BatchNormal  (None, 28, 28, 512)  2048       ['conv3_block4_3_conv[0][0]']    \n",
            " ization)                                                                                         \n",
            "                                                                                                  \n",
            " conv3_block4_add (Add)         (None, 28, 28, 512)  0           ['conv3_block3_out[0][0]',       \n",
            "                                                                  'conv3_block4_3_bn[0][0]']      \n",
            "                                                                                                  \n",
            " conv3_block4_out (Activation)  (None, 28, 28, 512)  0           ['conv3_block4_add[0][0]']       \n",
            "                                                                                                  \n",
            " conv3_block5_1_conv (Conv2D)   (None, 28, 28, 128)  65664       ['conv3_block4_out[0][0]']       \n",
            "                                                                                                  \n",
            " conv3_block5_1_bn (BatchNormal  (None, 28, 28, 128)  512        ['conv3_block5_1_conv[0][0]']    \n",
            " ization)                                                                                         \n",
            "                                                                                                  \n",
            " conv3_block5_1_relu (Activatio  (None, 28, 28, 128)  0          ['conv3_block5_1_bn[0][0]']      \n",
            " n)                                                                                               \n",
            "                                                                                                  \n",
            " conv3_block5_2_conv (Conv2D)   (None, 28, 28, 128)  147584      ['conv3_block5_1_relu[0][0]']    \n",
            "                                                                                                  \n",
            " conv3_block5_2_bn (BatchNormal  (None, 28, 28, 128)  512        ['conv3_block5_2_conv[0][0]']    \n",
            " ization)                                                                                         \n",
            "                                                                                                  \n",
            " conv3_block5_2_relu (Activatio  (None, 28, 28, 128)  0          ['conv3_block5_2_bn[0][0]']      \n",
            " n)                                                                                               \n",
            "                                                                                                  \n",
            " conv3_block5_3_conv (Conv2D)   (None, 28, 28, 512)  66048       ['conv3_block5_2_relu[0][0]']    \n",
            "                                                                                                  \n",
            " conv3_block5_3_bn (BatchNormal  (None, 28, 28, 512)  2048       ['conv3_block5_3_conv[0][0]']    \n",
            " ization)                                                                                         \n",
            "                                                                                                  \n",
            " conv3_block5_add (Add)         (None, 28, 28, 512)  0           ['conv3_block4_out[0][0]',       \n",
            "                                                                  'conv3_block5_3_bn[0][0]']      \n",
            "                                                                                                  \n",
            " conv3_block5_out (Activation)  (None, 28, 28, 512)  0           ['conv3_block5_add[0][0]']       \n",
            "                                                                                                  \n",
            " conv3_block6_1_conv (Conv2D)   (None, 28, 28, 128)  65664       ['conv3_block5_out[0][0]']       \n",
            "                                                                                                  \n",
            " conv3_block6_1_bn (BatchNormal  (None, 28, 28, 128)  512        ['conv3_block6_1_conv[0][0]']    \n",
            " ization)                                                                                         \n",
            "                                                                                                  \n",
            " conv3_block6_1_relu (Activatio  (None, 28, 28, 128)  0          ['conv3_block6_1_bn[0][0]']      \n",
            " n)                                                                                               \n",
            "                                                                                                  \n",
            " conv3_block6_2_conv (Conv2D)   (None, 28, 28, 128)  147584      ['conv3_block6_1_relu[0][0]']    \n",
            "                                                                                                  \n",
            " conv3_block6_2_bn (BatchNormal  (None, 28, 28, 128)  512        ['conv3_block6_2_conv[0][0]']    \n",
            " ization)                                                                                         \n",
            "                                                                                                  \n",
            " conv3_block6_2_relu (Activatio  (None, 28, 28, 128)  0          ['conv3_block6_2_bn[0][0]']      \n",
            " n)                                                                                               \n",
            "                                                                                                  \n",
            " conv3_block6_3_conv (Conv2D)   (None, 28, 28, 512)  66048       ['conv3_block6_2_relu[0][0]']    \n",
            "                                                                                                  \n",
            " conv3_block6_3_bn (BatchNormal  (None, 28, 28, 512)  2048       ['conv3_block6_3_conv[0][0]']    \n",
            " ization)                                                                                         \n",
            "                                                                                                  \n",
            " conv3_block6_add (Add)         (None, 28, 28, 512)  0           ['conv3_block5_out[0][0]',       \n",
            "                                                                  'conv3_block6_3_bn[0][0]']      \n",
            "                                                                                                  \n",
            " conv3_block6_out (Activation)  (None, 28, 28, 512)  0           ['conv3_block6_add[0][0]']       \n",
            "                                                                                                  \n",
            " conv3_block7_1_conv (Conv2D)   (None, 28, 28, 128)  65664       ['conv3_block6_out[0][0]']       \n",
            "                                                                                                  \n",
            " conv3_block7_1_bn (BatchNormal  (None, 28, 28, 128)  512        ['conv3_block7_1_conv[0][0]']    \n",
            " ization)                                                                                         \n",
            "                                                                                                  \n",
            " conv3_block7_1_relu (Activatio  (None, 28, 28, 128)  0          ['conv3_block7_1_bn[0][0]']      \n",
            " n)                                                                                               \n",
            "                                                                                                  \n",
            " conv3_block7_2_conv (Conv2D)   (None, 28, 28, 128)  147584      ['conv3_block7_1_relu[0][0]']    \n",
            "                                                                                                  \n",
            " conv3_block7_2_bn (BatchNormal  (None, 28, 28, 128)  512        ['conv3_block7_2_conv[0][0]']    \n",
            " ization)                                                                                         \n",
            "                                                                                                  \n",
            " conv3_block7_2_relu (Activatio  (None, 28, 28, 128)  0          ['conv3_block7_2_bn[0][0]']      \n",
            " n)                                                                                               \n",
            "                                                                                                  \n",
            " conv3_block7_3_conv (Conv2D)   (None, 28, 28, 512)  66048       ['conv3_block7_2_relu[0][0]']    \n",
            "                                                                                                  \n",
            " conv3_block7_3_bn (BatchNormal  (None, 28, 28, 512)  2048       ['conv3_block7_3_conv[0][0]']    \n",
            " ization)                                                                                         \n",
            "                                                                                                  \n",
            " conv3_block7_add (Add)         (None, 28, 28, 512)  0           ['conv3_block6_out[0][0]',       \n",
            "                                                                  'conv3_block7_3_bn[0][0]']      \n",
            "                                                                                                  \n",
            " conv3_block7_out (Activation)  (None, 28, 28, 512)  0           ['conv3_block7_add[0][0]']       \n",
            "                                                                                                  \n",
            " conv3_block8_1_conv (Conv2D)   (None, 28, 28, 128)  65664       ['conv3_block7_out[0][0]']       \n",
            "                                                                                                  \n",
            " conv3_block8_1_bn (BatchNormal  (None, 28, 28, 128)  512        ['conv3_block8_1_conv[0][0]']    \n",
            " ization)                                                                                         \n",
            "                                                                                                  \n",
            " conv3_block8_1_relu (Activatio  (None, 28, 28, 128)  0          ['conv3_block8_1_bn[0][0]']      \n",
            " n)                                                                                               \n",
            "                                                                                                  \n",
            " conv3_block8_2_conv (Conv2D)   (None, 28, 28, 128)  147584      ['conv3_block8_1_relu[0][0]']    \n",
            "                                                                                                  \n",
            " conv3_block8_2_bn (BatchNormal  (None, 28, 28, 128)  512        ['conv3_block8_2_conv[0][0]']    \n",
            " ization)                                                                                         \n",
            "                                                                                                  \n",
            " conv3_block8_2_relu (Activatio  (None, 28, 28, 128)  0          ['conv3_block8_2_bn[0][0]']      \n",
            " n)                                                                                               \n",
            "                                                                                                  \n",
            " conv3_block8_3_conv (Conv2D)   (None, 28, 28, 512)  66048       ['conv3_block8_2_relu[0][0]']    \n",
            "                                                                                                  \n",
            " conv3_block8_3_bn (BatchNormal  (None, 28, 28, 512)  2048       ['conv3_block8_3_conv[0][0]']    \n",
            " ization)                                                                                         \n",
            "                                                                                                  \n",
            " conv3_block8_add (Add)         (None, 28, 28, 512)  0           ['conv3_block7_out[0][0]',       \n",
            "                                                                  'conv3_block8_3_bn[0][0]']      \n",
            "                                                                                                  \n",
            " conv3_block8_out (Activation)  (None, 28, 28, 512)  0           ['conv3_block8_add[0][0]']       \n",
            "                                                                                                  \n",
            " conv4_block1_1_conv (Conv2D)   (None, 14, 14, 256)  131328      ['conv3_block8_out[0][0]']       \n",
            "                                                                                                  \n",
            " conv4_block1_1_bn (BatchNormal  (None, 14, 14, 256)  1024       ['conv4_block1_1_conv[0][0]']    \n",
            " ization)                                                                                         \n",
            "                                                                                                  \n",
            " conv4_block1_1_relu (Activatio  (None, 14, 14, 256)  0          ['conv4_block1_1_bn[0][0]']      \n",
            " n)                                                                                               \n",
            "                                                                                                  \n",
            " conv4_block1_2_conv (Conv2D)   (None, 14, 14, 256)  590080      ['conv4_block1_1_relu[0][0]']    \n",
            "                                                                                                  \n",
            " conv4_block1_2_bn (BatchNormal  (None, 14, 14, 256)  1024       ['conv4_block1_2_conv[0][0]']    \n",
            " ization)                                                                                         \n",
            "                                                                                                  \n",
            " conv4_block1_2_relu (Activatio  (None, 14, 14, 256)  0          ['conv4_block1_2_bn[0][0]']      \n",
            " n)                                                                                               \n",
            "                                                                                                  \n",
            " conv4_block1_0_conv (Conv2D)   (None, 14, 14, 1024  525312      ['conv3_block8_out[0][0]']       \n",
            "                                )                                                                 \n",
            "                                                                                                  \n",
            " conv4_block1_3_conv (Conv2D)   (None, 14, 14, 1024  263168      ['conv4_block1_2_relu[0][0]']    \n",
            "                                )                                                                 \n",
            "                                                                                                  \n",
            " conv4_block1_0_bn (BatchNormal  (None, 14, 14, 1024  4096       ['conv4_block1_0_conv[0][0]']    \n",
            " ization)                       )                                                                 \n",
            "                                                                                                  \n",
            " conv4_block1_3_bn (BatchNormal  (None, 14, 14, 1024  4096       ['conv4_block1_3_conv[0][0]']    \n",
            " ization)                       )                                                                 \n",
            "                                                                                                  \n",
            " conv4_block1_add (Add)         (None, 14, 14, 1024  0           ['conv4_block1_0_bn[0][0]',      \n",
            "                                )                                 'conv4_block1_3_bn[0][0]']      \n",
            "                                                                                                  \n",
            " conv4_block1_out (Activation)  (None, 14, 14, 1024  0           ['conv4_block1_add[0][0]']       \n",
            "                                )                                                                 \n",
            "                                                                                                  \n",
            " conv4_block2_1_conv (Conv2D)   (None, 14, 14, 256)  262400      ['conv4_block1_out[0][0]']       \n",
            "                                                                                                  \n",
            " conv4_block2_1_bn (BatchNormal  (None, 14, 14, 256)  1024       ['conv4_block2_1_conv[0][0]']    \n",
            " ization)                                                                                         \n",
            "                                                                                                  \n",
            " conv4_block2_1_relu (Activatio  (None, 14, 14, 256)  0          ['conv4_block2_1_bn[0][0]']      \n",
            " n)                                                                                               \n",
            "                                                                                                  \n",
            " conv4_block2_2_conv (Conv2D)   (None, 14, 14, 256)  590080      ['conv4_block2_1_relu[0][0]']    \n",
            "                                                                                                  \n",
            " conv4_block2_2_bn (BatchNormal  (None, 14, 14, 256)  1024       ['conv4_block2_2_conv[0][0]']    \n",
            " ization)                                                                                         \n",
            "                                                                                                  \n",
            " conv4_block2_2_relu (Activatio  (None, 14, 14, 256)  0          ['conv4_block2_2_bn[0][0]']      \n",
            " n)                                                                                               \n",
            "                                                                                                  \n",
            " conv4_block2_3_conv (Conv2D)   (None, 14, 14, 1024  263168      ['conv4_block2_2_relu[0][0]']    \n",
            "                                )                                                                 \n",
            "                                                                                                  \n",
            " conv4_block2_3_bn (BatchNormal  (None, 14, 14, 1024  4096       ['conv4_block2_3_conv[0][0]']    \n",
            " ization)                       )                                                                 \n",
            "                                                                                                  \n",
            " conv4_block2_add (Add)         (None, 14, 14, 1024  0           ['conv4_block1_out[0][0]',       \n",
            "                                )                                 'conv4_block2_3_bn[0][0]']      \n",
            "                                                                                                  \n",
            " conv4_block2_out (Activation)  (None, 14, 14, 1024  0           ['conv4_block2_add[0][0]']       \n",
            "                                )                                                                 \n",
            "                                                                                                  \n",
            " conv4_block3_1_conv (Conv2D)   (None, 14, 14, 256)  262400      ['conv4_block2_out[0][0]']       \n",
            "                                                                                                  \n",
            " conv4_block3_1_bn (BatchNormal  (None, 14, 14, 256)  1024       ['conv4_block3_1_conv[0][0]']    \n",
            " ization)                                                                                         \n",
            "                                                                                                  \n",
            " conv4_block3_1_relu (Activatio  (None, 14, 14, 256)  0          ['conv4_block3_1_bn[0][0]']      \n",
            " n)                                                                                               \n",
            "                                                                                                  \n",
            " conv4_block3_2_conv (Conv2D)   (None, 14, 14, 256)  590080      ['conv4_block3_1_relu[0][0]']    \n",
            "                                                                                                  \n",
            " conv4_block3_2_bn (BatchNormal  (None, 14, 14, 256)  1024       ['conv4_block3_2_conv[0][0]']    \n",
            " ization)                                                                                         \n",
            "                                                                                                  \n",
            " conv4_block3_2_relu (Activatio  (None, 14, 14, 256)  0          ['conv4_block3_2_bn[0][0]']      \n",
            " n)                                                                                               \n",
            "                                                                                                  \n",
            " conv4_block3_3_conv (Conv2D)   (None, 14, 14, 1024  263168      ['conv4_block3_2_relu[0][0]']    \n",
            "                                )                                                                 \n",
            "                                                                                                  \n",
            " conv4_block3_3_bn (BatchNormal  (None, 14, 14, 1024  4096       ['conv4_block3_3_conv[0][0]']    \n",
            " ization)                       )                                                                 \n",
            "                                                                                                  \n",
            " conv4_block3_add (Add)         (None, 14, 14, 1024  0           ['conv4_block2_out[0][0]',       \n",
            "                                )                                 'conv4_block3_3_bn[0][0]']      \n",
            "                                                                                                  \n",
            " conv4_block3_out (Activation)  (None, 14, 14, 1024  0           ['conv4_block3_add[0][0]']       \n",
            "                                )                                                                 \n",
            "                                                                                                  \n",
            " conv4_block4_1_conv (Conv2D)   (None, 14, 14, 256)  262400      ['conv4_block3_out[0][0]']       \n",
            "                                                                                                  \n",
            " conv4_block4_1_bn (BatchNormal  (None, 14, 14, 256)  1024       ['conv4_block4_1_conv[0][0]']    \n",
            " ization)                                                                                         \n",
            "                                                                                                  \n",
            " conv4_block4_1_relu (Activatio  (None, 14, 14, 256)  0          ['conv4_block4_1_bn[0][0]']      \n",
            " n)                                                                                               \n",
            "                                                                                                  \n",
            " conv4_block4_2_conv (Conv2D)   (None, 14, 14, 256)  590080      ['conv4_block4_1_relu[0][0]']    \n",
            "                                                                                                  \n",
            " conv4_block4_2_bn (BatchNormal  (None, 14, 14, 256)  1024       ['conv4_block4_2_conv[0][0]']    \n",
            " ization)                                                                                         \n",
            "                                                                                                  \n",
            " conv4_block4_2_relu (Activatio  (None, 14, 14, 256)  0          ['conv4_block4_2_bn[0][0]']      \n",
            " n)                                                                                               \n",
            "                                                                                                  \n",
            " conv4_block4_3_conv (Conv2D)   (None, 14, 14, 1024  263168      ['conv4_block4_2_relu[0][0]']    \n",
            "                                )                                                                 \n",
            "                                                                                                  \n",
            " conv4_block4_3_bn (BatchNormal  (None, 14, 14, 1024  4096       ['conv4_block4_3_conv[0][0]']    \n",
            " ization)                       )                                                                 \n",
            "                                                                                                  \n",
            " conv4_block4_add (Add)         (None, 14, 14, 1024  0           ['conv4_block3_out[0][0]',       \n",
            "                                )                                 'conv4_block4_3_bn[0][0]']      \n",
            "                                                                                                  \n",
            " conv4_block4_out (Activation)  (None, 14, 14, 1024  0           ['conv4_block4_add[0][0]']       \n",
            "                                )                                                                 \n",
            "                                                                                                  \n",
            " conv4_block5_1_conv (Conv2D)   (None, 14, 14, 256)  262400      ['conv4_block4_out[0][0]']       \n",
            "                                                                                                  \n",
            " conv4_block5_1_bn (BatchNormal  (None, 14, 14, 256)  1024       ['conv4_block5_1_conv[0][0]']    \n",
            " ization)                                                                                         \n",
            "                                                                                                  \n",
            " conv4_block5_1_relu (Activatio  (None, 14, 14, 256)  0          ['conv4_block5_1_bn[0][0]']      \n",
            " n)                                                                                               \n",
            "                                                                                                  \n",
            " conv4_block5_2_conv (Conv2D)   (None, 14, 14, 256)  590080      ['conv4_block5_1_relu[0][0]']    \n",
            "                                                                                                  \n",
            " conv4_block5_2_bn (BatchNormal  (None, 14, 14, 256)  1024       ['conv4_block5_2_conv[0][0]']    \n",
            " ization)                                                                                         \n",
            "                                                                                                  \n",
            " conv4_block5_2_relu (Activatio  (None, 14, 14, 256)  0          ['conv4_block5_2_bn[0][0]']      \n",
            " n)                                                                                               \n",
            "                                                                                                  \n",
            " conv4_block5_3_conv (Conv2D)   (None, 14, 14, 1024  263168      ['conv4_block5_2_relu[0][0]']    \n",
            "                                )                                                                 \n",
            "                                                                                                  \n",
            " conv4_block5_3_bn (BatchNormal  (None, 14, 14, 1024  4096       ['conv4_block5_3_conv[0][0]']    \n",
            " ization)                       )                                                                 \n",
            "                                                                                                  \n",
            " conv4_block5_add (Add)         (None, 14, 14, 1024  0           ['conv4_block4_out[0][0]',       \n",
            "                                )                                 'conv4_block5_3_bn[0][0]']      \n",
            "                                                                                                  \n",
            " conv4_block5_out (Activation)  (None, 14, 14, 1024  0           ['conv4_block5_add[0][0]']       \n",
            "                                )                                                                 \n",
            "                                                                                                  \n",
            " conv4_block6_1_conv (Conv2D)   (None, 14, 14, 256)  262400      ['conv4_block5_out[0][0]']       \n",
            "                                                                                                  \n",
            " conv4_block6_1_bn (BatchNormal  (None, 14, 14, 256)  1024       ['conv4_block6_1_conv[0][0]']    \n",
            " ization)                                                                                         \n",
            "                                                                                                  \n",
            " conv4_block6_1_relu (Activatio  (None, 14, 14, 256)  0          ['conv4_block6_1_bn[0][0]']      \n",
            " n)                                                                                               \n",
            "                                                                                                  \n",
            " conv4_block6_2_conv (Conv2D)   (None, 14, 14, 256)  590080      ['conv4_block6_1_relu[0][0]']    \n",
            "                                                                                                  \n",
            " conv4_block6_2_bn (BatchNormal  (None, 14, 14, 256)  1024       ['conv4_block6_2_conv[0][0]']    \n",
            " ization)                                                                                         \n",
            "                                                                                                  \n",
            " conv4_block6_2_relu (Activatio  (None, 14, 14, 256)  0          ['conv4_block6_2_bn[0][0]']      \n",
            " n)                                                                                               \n",
            "                                                                                                  \n",
            " conv4_block6_3_conv (Conv2D)   (None, 14, 14, 1024  263168      ['conv4_block6_2_relu[0][0]']    \n",
            "                                )                                                                 \n",
            "                                                                                                  \n",
            " conv4_block6_3_bn (BatchNormal  (None, 14, 14, 1024  4096       ['conv4_block6_3_conv[0][0]']    \n",
            " ization)                       )                                                                 \n",
            "                                                                                                  \n",
            " conv4_block6_add (Add)         (None, 14, 14, 1024  0           ['conv4_block5_out[0][0]',       \n",
            "                                )                                 'conv4_block6_3_bn[0][0]']      \n",
            "                                                                                                  \n",
            " conv4_block6_out (Activation)  (None, 14, 14, 1024  0           ['conv4_block6_add[0][0]']       \n",
            "                                )                                                                 \n",
            "                                                                                                  \n",
            " conv4_block7_1_conv (Conv2D)   (None, 14, 14, 256)  262400      ['conv4_block6_out[0][0]']       \n",
            "                                                                                                  \n",
            " conv4_block7_1_bn (BatchNormal  (None, 14, 14, 256)  1024       ['conv4_block7_1_conv[0][0]']    \n",
            " ization)                                                                                         \n",
            "                                                                                                  \n",
            " conv4_block7_1_relu (Activatio  (None, 14, 14, 256)  0          ['conv4_block7_1_bn[0][0]']      \n",
            " n)                                                                                               \n",
            "                                                                                                  \n",
            " conv4_block7_2_conv (Conv2D)   (None, 14, 14, 256)  590080      ['conv4_block7_1_relu[0][0]']    \n",
            "                                                                                                  \n",
            " conv4_block7_2_bn (BatchNormal  (None, 14, 14, 256)  1024       ['conv4_block7_2_conv[0][0]']    \n",
            " ization)                                                                                         \n",
            "                                                                                                  \n",
            " conv4_block7_2_relu (Activatio  (None, 14, 14, 256)  0          ['conv4_block7_2_bn[0][0]']      \n",
            " n)                                                                                               \n",
            "                                                                                                  \n",
            " conv4_block7_3_conv (Conv2D)   (None, 14, 14, 1024  263168      ['conv4_block7_2_relu[0][0]']    \n",
            "                                )                                                                 \n",
            "                                                                                                  \n",
            " conv4_block7_3_bn (BatchNormal  (None, 14, 14, 1024  4096       ['conv4_block7_3_conv[0][0]']    \n",
            " ization)                       )                                                                 \n",
            "                                                                                                  \n",
            " conv4_block7_add (Add)         (None, 14, 14, 1024  0           ['conv4_block6_out[0][0]',       \n",
            "                                )                                 'conv4_block7_3_bn[0][0]']      \n",
            "                                                                                                  \n",
            " conv4_block7_out (Activation)  (None, 14, 14, 1024  0           ['conv4_block7_add[0][0]']       \n",
            "                                )                                                                 \n",
            "                                                                                                  \n",
            " conv4_block8_1_conv (Conv2D)   (None, 14, 14, 256)  262400      ['conv4_block7_out[0][0]']       \n",
            "                                                                                                  \n",
            " conv4_block8_1_bn (BatchNormal  (None, 14, 14, 256)  1024       ['conv4_block8_1_conv[0][0]']    \n",
            " ization)                                                                                         \n",
            "                                                                                                  \n",
            " conv4_block8_1_relu (Activatio  (None, 14, 14, 256)  0          ['conv4_block8_1_bn[0][0]']      \n",
            " n)                                                                                               \n",
            "                                                                                                  \n",
            " conv4_block8_2_conv (Conv2D)   (None, 14, 14, 256)  590080      ['conv4_block8_1_relu[0][0]']    \n",
            "                                                                                                  \n",
            " conv4_block8_2_bn (BatchNormal  (None, 14, 14, 256)  1024       ['conv4_block8_2_conv[0][0]']    \n",
            " ization)                                                                                         \n",
            "                                                                                                  \n",
            " conv4_block8_2_relu (Activatio  (None, 14, 14, 256)  0          ['conv4_block8_2_bn[0][0]']      \n",
            " n)                                                                                               \n",
            "                                                                                                  \n",
            " conv4_block8_3_conv (Conv2D)   (None, 14, 14, 1024  263168      ['conv4_block8_2_relu[0][0]']    \n",
            "                                )                                                                 \n",
            "                                                                                                  \n",
            " conv4_block8_3_bn (BatchNormal  (None, 14, 14, 1024  4096       ['conv4_block8_3_conv[0][0]']    \n",
            " ization)                       )                                                                 \n",
            "                                                                                                  \n",
            " conv4_block8_add (Add)         (None, 14, 14, 1024  0           ['conv4_block7_out[0][0]',       \n",
            "                                )                                 'conv4_block8_3_bn[0][0]']      \n",
            "                                                                                                  \n",
            " conv4_block8_out (Activation)  (None, 14, 14, 1024  0           ['conv4_block8_add[0][0]']       \n",
            "                                )                                                                 \n",
            "                                                                                                  \n",
            " conv4_block9_1_conv (Conv2D)   (None, 14, 14, 256)  262400      ['conv4_block8_out[0][0]']       \n",
            "                                                                                                  \n",
            " conv4_block9_1_bn (BatchNormal  (None, 14, 14, 256)  1024       ['conv4_block9_1_conv[0][0]']    \n",
            " ization)                                                                                         \n",
            "                                                                                                  \n",
            " conv4_block9_1_relu (Activatio  (None, 14, 14, 256)  0          ['conv4_block9_1_bn[0][0]']      \n",
            " n)                                                                                               \n",
            "                                                                                                  \n",
            " conv4_block9_2_conv (Conv2D)   (None, 14, 14, 256)  590080      ['conv4_block9_1_relu[0][0]']    \n",
            "                                                                                                  \n",
            " conv4_block9_2_bn (BatchNormal  (None, 14, 14, 256)  1024       ['conv4_block9_2_conv[0][0]']    \n",
            " ization)                                                                                         \n",
            "                                                                                                  \n",
            " conv4_block9_2_relu (Activatio  (None, 14, 14, 256)  0          ['conv4_block9_2_bn[0][0]']      \n",
            " n)                                                                                               \n",
            "                                                                                                  \n",
            " conv4_block9_3_conv (Conv2D)   (None, 14, 14, 1024  263168      ['conv4_block9_2_relu[0][0]']    \n",
            "                                )                                                                 \n",
            "                                                                                                  \n",
            " conv4_block9_3_bn (BatchNormal  (None, 14, 14, 1024  4096       ['conv4_block9_3_conv[0][0]']    \n",
            " ization)                       )                                                                 \n",
            "                                                                                                  \n",
            " conv4_block9_add (Add)         (None, 14, 14, 1024  0           ['conv4_block8_out[0][0]',       \n",
            "                                )                                 'conv4_block9_3_bn[0][0]']      \n",
            "                                                                                                  \n",
            " conv4_block9_out (Activation)  (None, 14, 14, 1024  0           ['conv4_block9_add[0][0]']       \n",
            "                                )                                                                 \n",
            "                                                                                                  \n",
            " conv4_block10_1_conv (Conv2D)  (None, 14, 14, 256)  262400      ['conv4_block9_out[0][0]']       \n",
            "                                                                                                  \n",
            " conv4_block10_1_bn (BatchNorma  (None, 14, 14, 256)  1024       ['conv4_block10_1_conv[0][0]']   \n",
            " lization)                                                                                        \n",
            "                                                                                                  \n",
            " conv4_block10_1_relu (Activati  (None, 14, 14, 256)  0          ['conv4_block10_1_bn[0][0]']     \n",
            " on)                                                                                              \n",
            "                                                                                                  \n",
            " conv4_block10_2_conv (Conv2D)  (None, 14, 14, 256)  590080      ['conv4_block10_1_relu[0][0]']   \n",
            "                                                                                                  \n",
            " conv4_block10_2_bn (BatchNorma  (None, 14, 14, 256)  1024       ['conv4_block10_2_conv[0][0]']   \n",
            " lization)                                                                                        \n",
            "                                                                                                  \n",
            " conv4_block10_2_relu (Activati  (None, 14, 14, 256)  0          ['conv4_block10_2_bn[0][0]']     \n",
            " on)                                                                                              \n",
            "                                                                                                  \n",
            " conv4_block10_3_conv (Conv2D)  (None, 14, 14, 1024  263168      ['conv4_block10_2_relu[0][0]']   \n",
            "                                )                                                                 \n",
            "                                                                                                  \n",
            " conv4_block10_3_bn (BatchNorma  (None, 14, 14, 1024  4096       ['conv4_block10_3_conv[0][0]']   \n",
            " lization)                      )                                                                 \n",
            "                                                                                                  \n",
            " conv4_block10_add (Add)        (None, 14, 14, 1024  0           ['conv4_block9_out[0][0]',       \n",
            "                                )                                 'conv4_block10_3_bn[0][0]']     \n",
            "                                                                                                  \n",
            " conv4_block10_out (Activation)  (None, 14, 14, 1024  0          ['conv4_block10_add[0][0]']      \n",
            "                                )                                                                 \n",
            "                                                                                                  \n",
            " conv4_block11_1_conv (Conv2D)  (None, 14, 14, 256)  262400      ['conv4_block10_out[0][0]']      \n",
            "                                                                                                  \n",
            " conv4_block11_1_bn (BatchNorma  (None, 14, 14, 256)  1024       ['conv4_block11_1_conv[0][0]']   \n",
            " lization)                                                                                        \n",
            "                                                                                                  \n",
            " conv4_block11_1_relu (Activati  (None, 14, 14, 256)  0          ['conv4_block11_1_bn[0][0]']     \n",
            " on)                                                                                              \n",
            "                                                                                                  \n",
            " conv4_block11_2_conv (Conv2D)  (None, 14, 14, 256)  590080      ['conv4_block11_1_relu[0][0]']   \n",
            "                                                                                                  \n",
            " conv4_block11_2_bn (BatchNorma  (None, 14, 14, 256)  1024       ['conv4_block11_2_conv[0][0]']   \n",
            " lization)                                                                                        \n",
            "                                                                                                  \n",
            " conv4_block11_2_relu (Activati  (None, 14, 14, 256)  0          ['conv4_block11_2_bn[0][0]']     \n",
            " on)                                                                                              \n",
            "                                                                                                  \n",
            " conv4_block11_3_conv (Conv2D)  (None, 14, 14, 1024  263168      ['conv4_block11_2_relu[0][0]']   \n",
            "                                )                                                                 \n",
            "                                                                                                  \n",
            " conv4_block11_3_bn (BatchNorma  (None, 14, 14, 1024  4096       ['conv4_block11_3_conv[0][0]']   \n",
            " lization)                      )                                                                 \n",
            "                                                                                                  \n",
            " conv4_block11_add (Add)        (None, 14, 14, 1024  0           ['conv4_block10_out[0][0]',      \n",
            "                                )                                 'conv4_block11_3_bn[0][0]']     \n",
            "                                                                                                  \n",
            " conv4_block11_out (Activation)  (None, 14, 14, 1024  0          ['conv4_block11_add[0][0]']      \n",
            "                                )                                                                 \n",
            "                                                                                                  \n",
            " conv4_block12_1_conv (Conv2D)  (None, 14, 14, 256)  262400      ['conv4_block11_out[0][0]']      \n",
            "                                                                                                  \n",
            " conv4_block12_1_bn (BatchNorma  (None, 14, 14, 256)  1024       ['conv4_block12_1_conv[0][0]']   \n",
            " lization)                                                                                        \n",
            "                                                                                                  \n",
            " conv4_block12_1_relu (Activati  (None, 14, 14, 256)  0          ['conv4_block12_1_bn[0][0]']     \n",
            " on)                                                                                              \n",
            "                                                                                                  \n",
            " conv4_block12_2_conv (Conv2D)  (None, 14, 14, 256)  590080      ['conv4_block12_1_relu[0][0]']   \n",
            "                                                                                                  \n",
            " conv4_block12_2_bn (BatchNorma  (None, 14, 14, 256)  1024       ['conv4_block12_2_conv[0][0]']   \n",
            " lization)                                                                                        \n",
            "                                                                                                  \n",
            " conv4_block12_2_relu (Activati  (None, 14, 14, 256)  0          ['conv4_block12_2_bn[0][0]']     \n",
            " on)                                                                                              \n",
            "                                                                                                  \n",
            " conv4_block12_3_conv (Conv2D)  (None, 14, 14, 1024  263168      ['conv4_block12_2_relu[0][0]']   \n",
            "                                )                                                                 \n",
            "                                                                                                  \n",
            " conv4_block12_3_bn (BatchNorma  (None, 14, 14, 1024  4096       ['conv4_block12_3_conv[0][0]']   \n",
            " lization)                      )                                                                 \n",
            "                                                                                                  \n",
            " conv4_block12_add (Add)        (None, 14, 14, 1024  0           ['conv4_block11_out[0][0]',      \n",
            "                                )                                 'conv4_block12_3_bn[0][0]']     \n",
            "                                                                                                  \n",
            " conv4_block12_out (Activation)  (None, 14, 14, 1024  0          ['conv4_block12_add[0][0]']      \n",
            "                                )                                                                 \n",
            "                                                                                                  \n",
            " conv4_block13_1_conv (Conv2D)  (None, 14, 14, 256)  262400      ['conv4_block12_out[0][0]']      \n",
            "                                                                                                  \n",
            " conv4_block13_1_bn (BatchNorma  (None, 14, 14, 256)  1024       ['conv4_block13_1_conv[0][0]']   \n",
            " lization)                                                                                        \n",
            "                                                                                                  \n",
            " conv4_block13_1_relu (Activati  (None, 14, 14, 256)  0          ['conv4_block13_1_bn[0][0]']     \n",
            " on)                                                                                              \n",
            "                                                                                                  \n",
            " conv4_block13_2_conv (Conv2D)  (None, 14, 14, 256)  590080      ['conv4_block13_1_relu[0][0]']   \n",
            "                                                                                                  \n",
            " conv4_block13_2_bn (BatchNorma  (None, 14, 14, 256)  1024       ['conv4_block13_2_conv[0][0]']   \n",
            " lization)                                                                                        \n",
            "                                                                                                  \n",
            " conv4_block13_2_relu (Activati  (None, 14, 14, 256)  0          ['conv4_block13_2_bn[0][0]']     \n",
            " on)                                                                                              \n",
            "                                                                                                  \n",
            " conv4_block13_3_conv (Conv2D)  (None, 14, 14, 1024  263168      ['conv4_block13_2_relu[0][0]']   \n",
            "                                )                                                                 \n",
            "                                                                                                  \n",
            " conv4_block13_3_bn (BatchNorma  (None, 14, 14, 1024  4096       ['conv4_block13_3_conv[0][0]']   \n",
            " lization)                      )                                                                 \n",
            "                                                                                                  \n",
            " conv4_block13_add (Add)        (None, 14, 14, 1024  0           ['conv4_block12_out[0][0]',      \n",
            "                                )                                 'conv4_block13_3_bn[0][0]']     \n",
            "                                                                                                  \n",
            " conv4_block13_out (Activation)  (None, 14, 14, 1024  0          ['conv4_block13_add[0][0]']      \n",
            "                                )                                                                 \n",
            "                                                                                                  \n",
            " conv4_block14_1_conv (Conv2D)  (None, 14, 14, 256)  262400      ['conv4_block13_out[0][0]']      \n",
            "                                                                                                  \n",
            " conv4_block14_1_bn (BatchNorma  (None, 14, 14, 256)  1024       ['conv4_block14_1_conv[0][0]']   \n",
            " lization)                                                                                        \n",
            "                                                                                                  \n",
            " conv4_block14_1_relu (Activati  (None, 14, 14, 256)  0          ['conv4_block14_1_bn[0][0]']     \n",
            " on)                                                                                              \n",
            "                                                                                                  \n",
            " conv4_block14_2_conv (Conv2D)  (None, 14, 14, 256)  590080      ['conv4_block14_1_relu[0][0]']   \n",
            "                                                                                                  \n",
            " conv4_block14_2_bn (BatchNorma  (None, 14, 14, 256)  1024       ['conv4_block14_2_conv[0][0]']   \n",
            " lization)                                                                                        \n",
            "                                                                                                  \n",
            " conv4_block14_2_relu (Activati  (None, 14, 14, 256)  0          ['conv4_block14_2_bn[0][0]']     \n",
            " on)                                                                                              \n",
            "                                                                                                  \n",
            " conv4_block14_3_conv (Conv2D)  (None, 14, 14, 1024  263168      ['conv4_block14_2_relu[0][0]']   \n",
            "                                )                                                                 \n",
            "                                                                                                  \n",
            " conv4_block14_3_bn (BatchNorma  (None, 14, 14, 1024  4096       ['conv4_block14_3_conv[0][0]']   \n",
            " lization)                      )                                                                 \n",
            "                                                                                                  \n",
            " conv4_block14_add (Add)        (None, 14, 14, 1024  0           ['conv4_block13_out[0][0]',      \n",
            "                                )                                 'conv4_block14_3_bn[0][0]']     \n",
            "                                                                                                  \n",
            " conv4_block14_out (Activation)  (None, 14, 14, 1024  0          ['conv4_block14_add[0][0]']      \n",
            "                                )                                                                 \n",
            "                                                                                                  \n",
            " conv4_block15_1_conv (Conv2D)  (None, 14, 14, 256)  262400      ['conv4_block14_out[0][0]']      \n",
            "                                                                                                  \n",
            " conv4_block15_1_bn (BatchNorma  (None, 14, 14, 256)  1024       ['conv4_block15_1_conv[0][0]']   \n",
            " lization)                                                                                        \n",
            "                                                                                                  \n",
            " conv4_block15_1_relu (Activati  (None, 14, 14, 256)  0          ['conv4_block15_1_bn[0][0]']     \n",
            " on)                                                                                              \n",
            "                                                                                                  \n",
            " conv4_block15_2_conv (Conv2D)  (None, 14, 14, 256)  590080      ['conv4_block15_1_relu[0][0]']   \n",
            "                                                                                                  \n",
            " conv4_block15_2_bn (BatchNorma  (None, 14, 14, 256)  1024       ['conv4_block15_2_conv[0][0]']   \n",
            " lization)                                                                                        \n",
            "                                                                                                  \n",
            " conv4_block15_2_relu (Activati  (None, 14, 14, 256)  0          ['conv4_block15_2_bn[0][0]']     \n",
            " on)                                                                                              \n",
            "                                                                                                  \n",
            " conv4_block15_3_conv (Conv2D)  (None, 14, 14, 1024  263168      ['conv4_block15_2_relu[0][0]']   \n",
            "                                )                                                                 \n",
            "                                                                                                  \n",
            " conv4_block15_3_bn (BatchNorma  (None, 14, 14, 1024  4096       ['conv4_block15_3_conv[0][0]']   \n",
            " lization)                      )                                                                 \n",
            "                                                                                                  \n",
            " conv4_block15_add (Add)        (None, 14, 14, 1024  0           ['conv4_block14_out[0][0]',      \n",
            "                                )                                 'conv4_block15_3_bn[0][0]']     \n",
            "                                                                                                  \n",
            " conv4_block15_out (Activation)  (None, 14, 14, 1024  0          ['conv4_block15_add[0][0]']      \n",
            "                                )                                                                 \n",
            "                                                                                                  \n",
            " conv4_block16_1_conv (Conv2D)  (None, 14, 14, 256)  262400      ['conv4_block15_out[0][0]']      \n",
            "                                                                                                  \n",
            " conv4_block16_1_bn (BatchNorma  (None, 14, 14, 256)  1024       ['conv4_block16_1_conv[0][0]']   \n",
            " lization)                                                                                        \n",
            "                                                                                                  \n",
            " conv4_block16_1_relu (Activati  (None, 14, 14, 256)  0          ['conv4_block16_1_bn[0][0]']     \n",
            " on)                                                                                              \n",
            "                                                                                                  \n",
            " conv4_block16_2_conv (Conv2D)  (None, 14, 14, 256)  590080      ['conv4_block16_1_relu[0][0]']   \n",
            "                                                                                                  \n",
            " conv4_block16_2_bn (BatchNorma  (None, 14, 14, 256)  1024       ['conv4_block16_2_conv[0][0]']   \n",
            " lization)                                                                                        \n",
            "                                                                                                  \n",
            " conv4_block16_2_relu (Activati  (None, 14, 14, 256)  0          ['conv4_block16_2_bn[0][0]']     \n",
            " on)                                                                                              \n",
            "                                                                                                  \n",
            " conv4_block16_3_conv (Conv2D)  (None, 14, 14, 1024  263168      ['conv4_block16_2_relu[0][0]']   \n",
            "                                )                                                                 \n",
            "                                                                                                  \n",
            " conv4_block16_3_bn (BatchNorma  (None, 14, 14, 1024  4096       ['conv4_block16_3_conv[0][0]']   \n",
            " lization)                      )                                                                 \n",
            "                                                                                                  \n",
            " conv4_block16_add (Add)        (None, 14, 14, 1024  0           ['conv4_block15_out[0][0]',      \n",
            "                                )                                 'conv4_block16_3_bn[0][0]']     \n",
            "                                                                                                  \n",
            " conv4_block16_out (Activation)  (None, 14, 14, 1024  0          ['conv4_block16_add[0][0]']      \n",
            "                                )                                                                 \n",
            "                                                                                                  \n",
            " conv4_block17_1_conv (Conv2D)  (None, 14, 14, 256)  262400      ['conv4_block16_out[0][0]']      \n",
            "                                                                                                  \n",
            " conv4_block17_1_bn (BatchNorma  (None, 14, 14, 256)  1024       ['conv4_block17_1_conv[0][0]']   \n",
            " lization)                                                                                        \n",
            "                                                                                                  \n",
            " conv4_block17_1_relu (Activati  (None, 14, 14, 256)  0          ['conv4_block17_1_bn[0][0]']     \n",
            " on)                                                                                              \n",
            "                                                                                                  \n",
            " conv4_block17_2_conv (Conv2D)  (None, 14, 14, 256)  590080      ['conv4_block17_1_relu[0][0]']   \n",
            "                                                                                                  \n",
            " conv4_block17_2_bn (BatchNorma  (None, 14, 14, 256)  1024       ['conv4_block17_2_conv[0][0]']   \n",
            " lization)                                                                                        \n",
            "                                                                                                  \n",
            " conv4_block17_2_relu (Activati  (None, 14, 14, 256)  0          ['conv4_block17_2_bn[0][0]']     \n",
            " on)                                                                                              \n",
            "                                                                                                  \n",
            " conv4_block17_3_conv (Conv2D)  (None, 14, 14, 1024  263168      ['conv4_block17_2_relu[0][0]']   \n",
            "                                )                                                                 \n",
            "                                                                                                  \n",
            " conv4_block17_3_bn (BatchNorma  (None, 14, 14, 1024  4096       ['conv4_block17_3_conv[0][0]']   \n",
            " lization)                      )                                                                 \n",
            "                                                                                                  \n",
            " conv4_block17_add (Add)        (None, 14, 14, 1024  0           ['conv4_block16_out[0][0]',      \n",
            "                                )                                 'conv4_block17_3_bn[0][0]']     \n",
            "                                                                                                  \n",
            " conv4_block17_out (Activation)  (None, 14, 14, 1024  0          ['conv4_block17_add[0][0]']      \n",
            "                                )                                                                 \n",
            "                                                                                                  \n",
            " conv4_block18_1_conv (Conv2D)  (None, 14, 14, 256)  262400      ['conv4_block17_out[0][0]']      \n",
            "                                                                                                  \n",
            " conv4_block18_1_bn (BatchNorma  (None, 14, 14, 256)  1024       ['conv4_block18_1_conv[0][0]']   \n",
            " lization)                                                                                        \n",
            "                                                                                                  \n",
            " conv4_block18_1_relu (Activati  (None, 14, 14, 256)  0          ['conv4_block18_1_bn[0][0]']     \n",
            " on)                                                                                              \n",
            "                                                                                                  \n",
            " conv4_block18_2_conv (Conv2D)  (None, 14, 14, 256)  590080      ['conv4_block18_1_relu[0][0]']   \n",
            "                                                                                                  \n",
            " conv4_block18_2_bn (BatchNorma  (None, 14, 14, 256)  1024       ['conv4_block18_2_conv[0][0]']   \n",
            " lization)                                                                                        \n",
            "                                                                                                  \n",
            " conv4_block18_2_relu (Activati  (None, 14, 14, 256)  0          ['conv4_block18_2_bn[0][0]']     \n",
            " on)                                                                                              \n",
            "                                                                                                  \n",
            " conv4_block18_3_conv (Conv2D)  (None, 14, 14, 1024  263168      ['conv4_block18_2_relu[0][0]']   \n",
            "                                )                                                                 \n",
            "                                                                                                  \n",
            " conv4_block18_3_bn (BatchNorma  (None, 14, 14, 1024  4096       ['conv4_block18_3_conv[0][0]']   \n",
            " lization)                      )                                                                 \n",
            "                                                                                                  \n",
            " conv4_block18_add (Add)        (None, 14, 14, 1024  0           ['conv4_block17_out[0][0]',      \n",
            "                                )                                 'conv4_block18_3_bn[0][0]']     \n",
            "                                                                                                  \n",
            " conv4_block18_out (Activation)  (None, 14, 14, 1024  0          ['conv4_block18_add[0][0]']      \n",
            "                                )                                                                 \n",
            "                                                                                                  \n",
            " conv4_block19_1_conv (Conv2D)  (None, 14, 14, 256)  262400      ['conv4_block18_out[0][0]']      \n",
            "                                                                                                  \n",
            " conv4_block19_1_bn (BatchNorma  (None, 14, 14, 256)  1024       ['conv4_block19_1_conv[0][0]']   \n",
            " lization)                                                                                        \n",
            "                                                                                                  \n",
            " conv4_block19_1_relu (Activati  (None, 14, 14, 256)  0          ['conv4_block19_1_bn[0][0]']     \n",
            " on)                                                                                              \n",
            "                                                                                                  \n",
            " conv4_block19_2_conv (Conv2D)  (None, 14, 14, 256)  590080      ['conv4_block19_1_relu[0][0]']   \n",
            "                                                                                                  \n",
            " conv4_block19_2_bn (BatchNorma  (None, 14, 14, 256)  1024       ['conv4_block19_2_conv[0][0]']   \n",
            " lization)                                                                                        \n",
            "                                                                                                  \n",
            " conv4_block19_2_relu (Activati  (None, 14, 14, 256)  0          ['conv4_block19_2_bn[0][0]']     \n",
            " on)                                                                                              \n",
            "                                                                                                  \n",
            " conv4_block19_3_conv (Conv2D)  (None, 14, 14, 1024  263168      ['conv4_block19_2_relu[0][0]']   \n",
            "                                )                                                                 \n",
            "                                                                                                  \n",
            " conv4_block19_3_bn (BatchNorma  (None, 14, 14, 1024  4096       ['conv4_block19_3_conv[0][0]']   \n",
            " lization)                      )                                                                 \n",
            "                                                                                                  \n",
            " conv4_block19_add (Add)        (None, 14, 14, 1024  0           ['conv4_block18_out[0][0]',      \n",
            "                                )                                 'conv4_block19_3_bn[0][0]']     \n",
            "                                                                                                  \n",
            " conv4_block19_out (Activation)  (None, 14, 14, 1024  0          ['conv4_block19_add[0][0]']      \n",
            "                                )                                                                 \n",
            "                                                                                                  \n",
            " conv4_block20_1_conv (Conv2D)  (None, 14, 14, 256)  262400      ['conv4_block19_out[0][0]']      \n",
            "                                                                                                  \n",
            " conv4_block20_1_bn (BatchNorma  (None, 14, 14, 256)  1024       ['conv4_block20_1_conv[0][0]']   \n",
            " lization)                                                                                        \n",
            "                                                                                                  \n",
            " conv4_block20_1_relu (Activati  (None, 14, 14, 256)  0          ['conv4_block20_1_bn[0][0]']     \n",
            " on)                                                                                              \n",
            "                                                                                                  \n",
            " conv4_block20_2_conv (Conv2D)  (None, 14, 14, 256)  590080      ['conv4_block20_1_relu[0][0]']   \n",
            "                                                                                                  \n",
            " conv4_block20_2_bn (BatchNorma  (None, 14, 14, 256)  1024       ['conv4_block20_2_conv[0][0]']   \n",
            " lization)                                                                                        \n",
            "                                                                                                  \n",
            " conv4_block20_2_relu (Activati  (None, 14, 14, 256)  0          ['conv4_block20_2_bn[0][0]']     \n",
            " on)                                                                                              \n",
            "                                                                                                  \n",
            " conv4_block20_3_conv (Conv2D)  (None, 14, 14, 1024  263168      ['conv4_block20_2_relu[0][0]']   \n",
            "                                )                                                                 \n",
            "                                                                                                  \n",
            " conv4_block20_3_bn (BatchNorma  (None, 14, 14, 1024  4096       ['conv4_block20_3_conv[0][0]']   \n",
            " lization)                      )                                                                 \n",
            "                                                                                                  \n",
            " conv4_block20_add (Add)        (None, 14, 14, 1024  0           ['conv4_block19_out[0][0]',      \n",
            "                                )                                 'conv4_block20_3_bn[0][0]']     \n",
            "                                                                                                  \n",
            " conv4_block20_out (Activation)  (None, 14, 14, 1024  0          ['conv4_block20_add[0][0]']      \n",
            "                                )                                                                 \n",
            "                                                                                                  \n",
            " conv4_block21_1_conv (Conv2D)  (None, 14, 14, 256)  262400      ['conv4_block20_out[0][0]']      \n",
            "                                                                                                  \n",
            " conv4_block21_1_bn (BatchNorma  (None, 14, 14, 256)  1024       ['conv4_block21_1_conv[0][0]']   \n",
            " lization)                                                                                        \n",
            "                                                                                                  \n",
            " conv4_block21_1_relu (Activati  (None, 14, 14, 256)  0          ['conv4_block21_1_bn[0][0]']     \n",
            " on)                                                                                              \n",
            "                                                                                                  \n",
            " conv4_block21_2_conv (Conv2D)  (None, 14, 14, 256)  590080      ['conv4_block21_1_relu[0][0]']   \n",
            "                                                                                                  \n",
            " conv4_block21_2_bn (BatchNorma  (None, 14, 14, 256)  1024       ['conv4_block21_2_conv[0][0]']   \n",
            " lization)                                                                                        \n",
            "                                                                                                  \n",
            " conv4_block21_2_relu (Activati  (None, 14, 14, 256)  0          ['conv4_block21_2_bn[0][0]']     \n",
            " on)                                                                                              \n",
            "                                                                                                  \n",
            " conv4_block21_3_conv (Conv2D)  (None, 14, 14, 1024  263168      ['conv4_block21_2_relu[0][0]']   \n",
            "                                )                                                                 \n",
            "                                                                                                  \n",
            " conv4_block21_3_bn (BatchNorma  (None, 14, 14, 1024  4096       ['conv4_block21_3_conv[0][0]']   \n",
            " lization)                      )                                                                 \n",
            "                                                                                                  \n",
            " conv4_block21_add (Add)        (None, 14, 14, 1024  0           ['conv4_block20_out[0][0]',      \n",
            "                                )                                 'conv4_block21_3_bn[0][0]']     \n",
            "                                                                                                  \n",
            " conv4_block21_out (Activation)  (None, 14, 14, 1024  0          ['conv4_block21_add[0][0]']      \n",
            "                                )                                                                 \n",
            "                                                                                                  \n",
            " conv4_block22_1_conv (Conv2D)  (None, 14, 14, 256)  262400      ['conv4_block21_out[0][0]']      \n",
            "                                                                                                  \n",
            " conv4_block22_1_bn (BatchNorma  (None, 14, 14, 256)  1024       ['conv4_block22_1_conv[0][0]']   \n",
            " lization)                                                                                        \n",
            "                                                                                                  \n",
            " conv4_block22_1_relu (Activati  (None, 14, 14, 256)  0          ['conv4_block22_1_bn[0][0]']     \n",
            " on)                                                                                              \n",
            "                                                                                                  \n",
            " conv4_block22_2_conv (Conv2D)  (None, 14, 14, 256)  590080      ['conv4_block22_1_relu[0][0]']   \n",
            "                                                                                                  \n",
            " conv4_block22_2_bn (BatchNorma  (None, 14, 14, 256)  1024       ['conv4_block22_2_conv[0][0]']   \n",
            " lization)                                                                                        \n",
            "                                                                                                  \n",
            " conv4_block22_2_relu (Activati  (None, 14, 14, 256)  0          ['conv4_block22_2_bn[0][0]']     \n",
            " on)                                                                                              \n",
            "                                                                                                  \n",
            " conv4_block22_3_conv (Conv2D)  (None, 14, 14, 1024  263168      ['conv4_block22_2_relu[0][0]']   \n",
            "                                )                                                                 \n",
            "                                                                                                  \n",
            " conv4_block22_3_bn (BatchNorma  (None, 14, 14, 1024  4096       ['conv4_block22_3_conv[0][0]']   \n",
            " lization)                      )                                                                 \n",
            "                                                                                                  \n",
            " conv4_block22_add (Add)        (None, 14, 14, 1024  0           ['conv4_block21_out[0][0]',      \n",
            "                                )                                 'conv4_block22_3_bn[0][0]']     \n",
            "                                                                                                  \n",
            " conv4_block22_out (Activation)  (None, 14, 14, 1024  0          ['conv4_block22_add[0][0]']      \n",
            "                                )                                                                 \n",
            "                                                                                                  \n",
            " conv4_block23_1_conv (Conv2D)  (None, 14, 14, 256)  262400      ['conv4_block22_out[0][0]']      \n",
            "                                                                                                  \n",
            " conv4_block23_1_bn (BatchNorma  (None, 14, 14, 256)  1024       ['conv4_block23_1_conv[0][0]']   \n",
            " lization)                                                                                        \n",
            "                                                                                                  \n",
            " conv4_block23_1_relu (Activati  (None, 14, 14, 256)  0          ['conv4_block23_1_bn[0][0]']     \n",
            " on)                                                                                              \n",
            "                                                                                                  \n",
            " conv4_block23_2_conv (Conv2D)  (None, 14, 14, 256)  590080      ['conv4_block23_1_relu[0][0]']   \n",
            "                                                                                                  \n",
            " conv4_block23_2_bn (BatchNorma  (None, 14, 14, 256)  1024       ['conv4_block23_2_conv[0][0]']   \n",
            " lization)                                                                                        \n",
            "                                                                                                  \n",
            " conv4_block23_2_relu (Activati  (None, 14, 14, 256)  0          ['conv4_block23_2_bn[0][0]']     \n",
            " on)                                                                                              \n",
            "                                                                                                  \n",
            " conv4_block23_3_conv (Conv2D)  (None, 14, 14, 1024  263168      ['conv4_block23_2_relu[0][0]']   \n",
            "                                )                                                                 \n",
            "                                                                                                  \n",
            " conv4_block23_3_bn (BatchNorma  (None, 14, 14, 1024  4096       ['conv4_block23_3_conv[0][0]']   \n",
            " lization)                      )                                                                 \n",
            "                                                                                                  \n",
            " conv4_block23_add (Add)        (None, 14, 14, 1024  0           ['conv4_block22_out[0][0]',      \n",
            "                                )                                 'conv4_block23_3_bn[0][0]']     \n",
            "                                                                                                  \n",
            " conv4_block23_out (Activation)  (None, 14, 14, 1024  0          ['conv4_block23_add[0][0]']      \n",
            "                                )                                                                 \n",
            "                                                                                                  \n",
            " conv4_block24_1_conv (Conv2D)  (None, 14, 14, 256)  262400      ['conv4_block23_out[0][0]']      \n",
            "                                                                                                  \n",
            " conv4_block24_1_bn (BatchNorma  (None, 14, 14, 256)  1024       ['conv4_block24_1_conv[0][0]']   \n",
            " lization)                                                                                        \n",
            "                                                                                                  \n",
            " conv4_block24_1_relu (Activati  (None, 14, 14, 256)  0          ['conv4_block24_1_bn[0][0]']     \n",
            " on)                                                                                              \n",
            "                                                                                                  \n",
            " conv4_block24_2_conv (Conv2D)  (None, 14, 14, 256)  590080      ['conv4_block24_1_relu[0][0]']   \n",
            "                                                                                                  \n",
            " conv4_block24_2_bn (BatchNorma  (None, 14, 14, 256)  1024       ['conv4_block24_2_conv[0][0]']   \n",
            " lization)                                                                                        \n",
            "                                                                                                  \n",
            " conv4_block24_2_relu (Activati  (None, 14, 14, 256)  0          ['conv4_block24_2_bn[0][0]']     \n",
            " on)                                                                                              \n",
            "                                                                                                  \n",
            " conv4_block24_3_conv (Conv2D)  (None, 14, 14, 1024  263168      ['conv4_block24_2_relu[0][0]']   \n",
            "                                )                                                                 \n",
            "                                                                                                  \n",
            " conv4_block24_3_bn (BatchNorma  (None, 14, 14, 1024  4096       ['conv4_block24_3_conv[0][0]']   \n",
            " lization)                      )                                                                 \n",
            "                                                                                                  \n",
            " conv4_block24_add (Add)        (None, 14, 14, 1024  0           ['conv4_block23_out[0][0]',      \n",
            "                                )                                 'conv4_block24_3_bn[0][0]']     \n",
            "                                                                                                  \n",
            " conv4_block24_out (Activation)  (None, 14, 14, 1024  0          ['conv4_block24_add[0][0]']      \n",
            "                                )                                                                 \n",
            "                                                                                                  \n",
            " conv4_block25_1_conv (Conv2D)  (None, 14, 14, 256)  262400      ['conv4_block24_out[0][0]']      \n",
            "                                                                                                  \n",
            " conv4_block25_1_bn (BatchNorma  (None, 14, 14, 256)  1024       ['conv4_block25_1_conv[0][0]']   \n",
            " lization)                                                                                        \n",
            "                                                                                                  \n",
            " conv4_block25_1_relu (Activati  (None, 14, 14, 256)  0          ['conv4_block25_1_bn[0][0]']     \n",
            " on)                                                                                              \n",
            "                                                                                                  \n",
            " conv4_block25_2_conv (Conv2D)  (None, 14, 14, 256)  590080      ['conv4_block25_1_relu[0][0]']   \n",
            "                                                                                                  \n",
            " conv4_block25_2_bn (BatchNorma  (None, 14, 14, 256)  1024       ['conv4_block25_2_conv[0][0]']   \n",
            " lization)                                                                                        \n",
            "                                                                                                  \n",
            " conv4_block25_2_relu (Activati  (None, 14, 14, 256)  0          ['conv4_block25_2_bn[0][0]']     \n",
            " on)                                                                                              \n",
            "                                                                                                  \n",
            " conv4_block25_3_conv (Conv2D)  (None, 14, 14, 1024  263168      ['conv4_block25_2_relu[0][0]']   \n",
            "                                )                                                                 \n",
            "                                                                                                  \n",
            " conv4_block25_3_bn (BatchNorma  (None, 14, 14, 1024  4096       ['conv4_block25_3_conv[0][0]']   \n",
            " lization)                      )                                                                 \n",
            "                                                                                                  \n",
            " conv4_block25_add (Add)        (None, 14, 14, 1024  0           ['conv4_block24_out[0][0]',      \n",
            "                                )                                 'conv4_block25_3_bn[0][0]']     \n",
            "                                                                                                  \n",
            " conv4_block25_out (Activation)  (None, 14, 14, 1024  0          ['conv4_block25_add[0][0]']      \n",
            "                                )                                                                 \n",
            "                                                                                                  \n",
            " conv4_block26_1_conv (Conv2D)  (None, 14, 14, 256)  262400      ['conv4_block25_out[0][0]']      \n",
            "                                                                                                  \n",
            " conv4_block26_1_bn (BatchNorma  (None, 14, 14, 256)  1024       ['conv4_block26_1_conv[0][0]']   \n",
            " lization)                                                                                        \n",
            "                                                                                                  \n",
            " conv4_block26_1_relu (Activati  (None, 14, 14, 256)  0          ['conv4_block26_1_bn[0][0]']     \n",
            " on)                                                                                              \n",
            "                                                                                                  \n",
            " conv4_block26_2_conv (Conv2D)  (None, 14, 14, 256)  590080      ['conv4_block26_1_relu[0][0]']   \n",
            "                                                                                                  \n",
            " conv4_block26_2_bn (BatchNorma  (None, 14, 14, 256)  1024       ['conv4_block26_2_conv[0][0]']   \n",
            " lization)                                                                                        \n",
            "                                                                                                  \n",
            " conv4_block26_2_relu (Activati  (None, 14, 14, 256)  0          ['conv4_block26_2_bn[0][0]']     \n",
            " on)                                                                                              \n",
            "                                                                                                  \n",
            " conv4_block26_3_conv (Conv2D)  (None, 14, 14, 1024  263168      ['conv4_block26_2_relu[0][0]']   \n",
            "                                )                                                                 \n",
            "                                                                                                  \n",
            " conv4_block26_3_bn (BatchNorma  (None, 14, 14, 1024  4096       ['conv4_block26_3_conv[0][0]']   \n",
            " lization)                      )                                                                 \n",
            "                                                                                                  \n",
            " conv4_block26_add (Add)        (None, 14, 14, 1024  0           ['conv4_block25_out[0][0]',      \n",
            "                                )                                 'conv4_block26_3_bn[0][0]']     \n",
            "                                                                                                  \n",
            " conv4_block26_out (Activation)  (None, 14, 14, 1024  0          ['conv4_block26_add[0][0]']      \n",
            "                                )                                                                 \n",
            "                                                                                                  \n",
            " conv4_block27_1_conv (Conv2D)  (None, 14, 14, 256)  262400      ['conv4_block26_out[0][0]']      \n",
            "                                                                                                  \n",
            " conv4_block27_1_bn (BatchNorma  (None, 14, 14, 256)  1024       ['conv4_block27_1_conv[0][0]']   \n",
            " lization)                                                                                        \n",
            "                                                                                                  \n",
            " conv4_block27_1_relu (Activati  (None, 14, 14, 256)  0          ['conv4_block27_1_bn[0][0]']     \n",
            " on)                                                                                              \n",
            "                                                                                                  \n",
            " conv4_block27_2_conv (Conv2D)  (None, 14, 14, 256)  590080      ['conv4_block27_1_relu[0][0]']   \n",
            "                                                                                                  \n",
            " conv4_block27_2_bn (BatchNorma  (None, 14, 14, 256)  1024       ['conv4_block27_2_conv[0][0]']   \n",
            " lization)                                                                                        \n",
            "                                                                                                  \n",
            " conv4_block27_2_relu (Activati  (None, 14, 14, 256)  0          ['conv4_block27_2_bn[0][0]']     \n",
            " on)                                                                                              \n",
            "                                                                                                  \n",
            " conv4_block27_3_conv (Conv2D)  (None, 14, 14, 1024  263168      ['conv4_block27_2_relu[0][0]']   \n",
            "                                )                                                                 \n",
            "                                                                                                  \n",
            " conv4_block27_3_bn (BatchNorma  (None, 14, 14, 1024  4096       ['conv4_block27_3_conv[0][0]']   \n",
            " lization)                      )                                                                 \n",
            "                                                                                                  \n",
            " conv4_block27_add (Add)        (None, 14, 14, 1024  0           ['conv4_block26_out[0][0]',      \n",
            "                                )                                 'conv4_block27_3_bn[0][0]']     \n",
            "                                                                                                  \n",
            " conv4_block27_out (Activation)  (None, 14, 14, 1024  0          ['conv4_block27_add[0][0]']      \n",
            "                                )                                                                 \n",
            "                                                                                                  \n",
            " conv4_block28_1_conv (Conv2D)  (None, 14, 14, 256)  262400      ['conv4_block27_out[0][0]']      \n",
            "                                                                                                  \n",
            " conv4_block28_1_bn (BatchNorma  (None, 14, 14, 256)  1024       ['conv4_block28_1_conv[0][0]']   \n",
            " lization)                                                                                        \n",
            "                                                                                                  \n",
            " conv4_block28_1_relu (Activati  (None, 14, 14, 256)  0          ['conv4_block28_1_bn[0][0]']     \n",
            " on)                                                                                              \n",
            "                                                                                                  \n",
            " conv4_block28_2_conv (Conv2D)  (None, 14, 14, 256)  590080      ['conv4_block28_1_relu[0][0]']   \n",
            "                                                                                                  \n",
            " conv4_block28_2_bn (BatchNorma  (None, 14, 14, 256)  1024       ['conv4_block28_2_conv[0][0]']   \n",
            " lization)                                                                                        \n",
            "                                                                                                  \n",
            " conv4_block28_2_relu (Activati  (None, 14, 14, 256)  0          ['conv4_block28_2_bn[0][0]']     \n",
            " on)                                                                                              \n",
            "                                                                                                  \n",
            " conv4_block28_3_conv (Conv2D)  (None, 14, 14, 1024  263168      ['conv4_block28_2_relu[0][0]']   \n",
            "                                )                                                                 \n",
            "                                                                                                  \n",
            " conv4_block28_3_bn (BatchNorma  (None, 14, 14, 1024  4096       ['conv4_block28_3_conv[0][0]']   \n",
            " lization)                      )                                                                 \n",
            "                                                                                                  \n",
            " conv4_block28_add (Add)        (None, 14, 14, 1024  0           ['conv4_block27_out[0][0]',      \n",
            "                                )                                 'conv4_block28_3_bn[0][0]']     \n",
            "                                                                                                  \n",
            " conv4_block28_out (Activation)  (None, 14, 14, 1024  0          ['conv4_block28_add[0][0]']      \n",
            "                                )                                                                 \n",
            "                                                                                                  \n",
            " conv4_block29_1_conv (Conv2D)  (None, 14, 14, 256)  262400      ['conv4_block28_out[0][0]']      \n",
            "                                                                                                  \n",
            " conv4_block29_1_bn (BatchNorma  (None, 14, 14, 256)  1024       ['conv4_block29_1_conv[0][0]']   \n",
            " lization)                                                                                        \n",
            "                                                                                                  \n",
            " conv4_block29_1_relu (Activati  (None, 14, 14, 256)  0          ['conv4_block29_1_bn[0][0]']     \n",
            " on)                                                                                              \n",
            "                                                                                                  \n",
            " conv4_block29_2_conv (Conv2D)  (None, 14, 14, 256)  590080      ['conv4_block29_1_relu[0][0]']   \n",
            "                                                                                                  \n",
            " conv4_block29_2_bn (BatchNorma  (None, 14, 14, 256)  1024       ['conv4_block29_2_conv[0][0]']   \n",
            " lization)                                                                                        \n",
            "                                                                                                  \n",
            " conv4_block29_2_relu (Activati  (None, 14, 14, 256)  0          ['conv4_block29_2_bn[0][0]']     \n",
            " on)                                                                                              \n",
            "                                                                                                  \n",
            " conv4_block29_3_conv (Conv2D)  (None, 14, 14, 1024  263168      ['conv4_block29_2_relu[0][0]']   \n",
            "                                )                                                                 \n",
            "                                                                                                  \n",
            " conv4_block29_3_bn (BatchNorma  (None, 14, 14, 1024  4096       ['conv4_block29_3_conv[0][0]']   \n",
            " lization)                      )                                                                 \n",
            "                                                                                                  \n",
            " conv4_block29_add (Add)        (None, 14, 14, 1024  0           ['conv4_block28_out[0][0]',      \n",
            "                                )                                 'conv4_block29_3_bn[0][0]']     \n",
            "                                                                                                  \n",
            " conv4_block29_out (Activation)  (None, 14, 14, 1024  0          ['conv4_block29_add[0][0]']      \n",
            "                                )                                                                 \n",
            "                                                                                                  \n",
            " conv4_block30_1_conv (Conv2D)  (None, 14, 14, 256)  262400      ['conv4_block29_out[0][0]']      \n",
            "                                                                                                  \n",
            " conv4_block30_1_bn (BatchNorma  (None, 14, 14, 256)  1024       ['conv4_block30_1_conv[0][0]']   \n",
            " lization)                                                                                        \n",
            "                                                                                                  \n",
            " conv4_block30_1_relu (Activati  (None, 14, 14, 256)  0          ['conv4_block30_1_bn[0][0]']     \n",
            " on)                                                                                              \n",
            "                                                                                                  \n",
            " conv4_block30_2_conv (Conv2D)  (None, 14, 14, 256)  590080      ['conv4_block30_1_relu[0][0]']   \n",
            "                                                                                                  \n",
            " conv4_block30_2_bn (BatchNorma  (None, 14, 14, 256)  1024       ['conv4_block30_2_conv[0][0]']   \n",
            " lization)                                                                                        \n",
            "                                                                                                  \n",
            " conv4_block30_2_relu (Activati  (None, 14, 14, 256)  0          ['conv4_block30_2_bn[0][0]']     \n",
            " on)                                                                                              \n",
            "                                                                                                  \n",
            " conv4_block30_3_conv (Conv2D)  (None, 14, 14, 1024  263168      ['conv4_block30_2_relu[0][0]']   \n",
            "                                )                                                                 \n",
            "                                                                                                  \n",
            " conv4_block30_3_bn (BatchNorma  (None, 14, 14, 1024  4096       ['conv4_block30_3_conv[0][0]']   \n",
            " lization)                      )                                                                 \n",
            "                                                                                                  \n",
            " conv4_block30_add (Add)        (None, 14, 14, 1024  0           ['conv4_block29_out[0][0]',      \n",
            "                                )                                 'conv4_block30_3_bn[0][0]']     \n",
            "                                                                                                  \n",
            " conv4_block30_out (Activation)  (None, 14, 14, 1024  0          ['conv4_block30_add[0][0]']      \n",
            "                                )                                                                 \n",
            "                                                                                                  \n",
            " conv4_block31_1_conv (Conv2D)  (None, 14, 14, 256)  262400      ['conv4_block30_out[0][0]']      \n",
            "                                                                                                  \n",
            " conv4_block31_1_bn (BatchNorma  (None, 14, 14, 256)  1024       ['conv4_block31_1_conv[0][0]']   \n",
            " lization)                                                                                        \n",
            "                                                                                                  \n",
            " conv4_block31_1_relu (Activati  (None, 14, 14, 256)  0          ['conv4_block31_1_bn[0][0]']     \n",
            " on)                                                                                              \n",
            "                                                                                                  \n",
            " conv4_block31_2_conv (Conv2D)  (None, 14, 14, 256)  590080      ['conv4_block31_1_relu[0][0]']   \n",
            "                                                                                                  \n",
            " conv4_block31_2_bn (BatchNorma  (None, 14, 14, 256)  1024       ['conv4_block31_2_conv[0][0]']   \n",
            " lization)                                                                                        \n",
            "                                                                                                  \n",
            " conv4_block31_2_relu (Activati  (None, 14, 14, 256)  0          ['conv4_block31_2_bn[0][0]']     \n",
            " on)                                                                                              \n",
            "                                                                                                  \n",
            " conv4_block31_3_conv (Conv2D)  (None, 14, 14, 1024  263168      ['conv4_block31_2_relu[0][0]']   \n",
            "                                )                                                                 \n",
            "                                                                                                  \n",
            " conv4_block31_3_bn (BatchNorma  (None, 14, 14, 1024  4096       ['conv4_block31_3_conv[0][0]']   \n",
            " lization)                      )                                                                 \n",
            "                                                                                                  \n",
            " conv4_block31_add (Add)        (None, 14, 14, 1024  0           ['conv4_block30_out[0][0]',      \n",
            "                                )                                 'conv4_block31_3_bn[0][0]']     \n",
            "                                                                                                  \n",
            " conv4_block31_out (Activation)  (None, 14, 14, 1024  0          ['conv4_block31_add[0][0]']      \n",
            "                                )                                                                 \n",
            "                                                                                                  \n",
            " conv4_block32_1_conv (Conv2D)  (None, 14, 14, 256)  262400      ['conv4_block31_out[0][0]']      \n",
            "                                                                                                  \n",
            " conv4_block32_1_bn (BatchNorma  (None, 14, 14, 256)  1024       ['conv4_block32_1_conv[0][0]']   \n",
            " lization)                                                                                        \n",
            "                                                                                                  \n",
            " conv4_block32_1_relu (Activati  (None, 14, 14, 256)  0          ['conv4_block32_1_bn[0][0]']     \n",
            " on)                                                                                              \n",
            "                                                                                                  \n",
            " conv4_block32_2_conv (Conv2D)  (None, 14, 14, 256)  590080      ['conv4_block32_1_relu[0][0]']   \n",
            "                                                                                                  \n",
            " conv4_block32_2_bn (BatchNorma  (None, 14, 14, 256)  1024       ['conv4_block32_2_conv[0][0]']   \n",
            " lization)                                                                                        \n",
            "                                                                                                  \n",
            " conv4_block32_2_relu (Activati  (None, 14, 14, 256)  0          ['conv4_block32_2_bn[0][0]']     \n",
            " on)                                                                                              \n",
            "                                                                                                  \n",
            " conv4_block32_3_conv (Conv2D)  (None, 14, 14, 1024  263168      ['conv4_block32_2_relu[0][0]']   \n",
            "                                )                                                                 \n",
            "                                                                                                  \n",
            " conv4_block32_3_bn (BatchNorma  (None, 14, 14, 1024  4096       ['conv4_block32_3_conv[0][0]']   \n",
            " lization)                      )                                                                 \n",
            "                                                                                                  \n",
            " conv4_block32_add (Add)        (None, 14, 14, 1024  0           ['conv4_block31_out[0][0]',      \n",
            "                                )                                 'conv4_block32_3_bn[0][0]']     \n",
            "                                                                                                  \n",
            " conv4_block32_out (Activation)  (None, 14, 14, 1024  0          ['conv4_block32_add[0][0]']      \n",
            "                                )                                                                 \n",
            "                                                                                                  \n",
            " conv4_block33_1_conv (Conv2D)  (None, 14, 14, 256)  262400      ['conv4_block32_out[0][0]']      \n",
            "                                                                                                  \n",
            " conv4_block33_1_bn (BatchNorma  (None, 14, 14, 256)  1024       ['conv4_block33_1_conv[0][0]']   \n",
            " lization)                                                                                        \n",
            "                                                                                                  \n",
            " conv4_block33_1_relu (Activati  (None, 14, 14, 256)  0          ['conv4_block33_1_bn[0][0]']     \n",
            " on)                                                                                              \n",
            "                                                                                                  \n",
            " conv4_block33_2_conv (Conv2D)  (None, 14, 14, 256)  590080      ['conv4_block33_1_relu[0][0]']   \n",
            "                                                                                                  \n",
            " conv4_block33_2_bn (BatchNorma  (None, 14, 14, 256)  1024       ['conv4_block33_2_conv[0][0]']   \n",
            " lization)                                                                                        \n",
            "                                                                                                  \n",
            " conv4_block33_2_relu (Activati  (None, 14, 14, 256)  0          ['conv4_block33_2_bn[0][0]']     \n",
            " on)                                                                                              \n",
            "                                                                                                  \n",
            " conv4_block33_3_conv (Conv2D)  (None, 14, 14, 1024  263168      ['conv4_block33_2_relu[0][0]']   \n",
            "                                )                                                                 \n",
            "                                                                                                  \n",
            " conv4_block33_3_bn (BatchNorma  (None, 14, 14, 1024  4096       ['conv4_block33_3_conv[0][0]']   \n",
            " lization)                      )                                                                 \n",
            "                                                                                                  \n",
            " conv4_block33_add (Add)        (None, 14, 14, 1024  0           ['conv4_block32_out[0][0]',      \n",
            "                                )                                 'conv4_block33_3_bn[0][0]']     \n",
            "                                                                                                  \n",
            " conv4_block33_out (Activation)  (None, 14, 14, 1024  0          ['conv4_block33_add[0][0]']      \n",
            "                                )                                                                 \n",
            "                                                                                                  \n",
            " conv4_block34_1_conv (Conv2D)  (None, 14, 14, 256)  262400      ['conv4_block33_out[0][0]']      \n",
            "                                                                                                  \n",
            " conv4_block34_1_bn (BatchNorma  (None, 14, 14, 256)  1024       ['conv4_block34_1_conv[0][0]']   \n",
            " lization)                                                                                        \n",
            "                                                                                                  \n",
            " conv4_block34_1_relu (Activati  (None, 14, 14, 256)  0          ['conv4_block34_1_bn[0][0]']     \n",
            " on)                                                                                              \n",
            "                                                                                                  \n",
            " conv4_block34_2_conv (Conv2D)  (None, 14, 14, 256)  590080      ['conv4_block34_1_relu[0][0]']   \n",
            "                                                                                                  \n",
            " conv4_block34_2_bn (BatchNorma  (None, 14, 14, 256)  1024       ['conv4_block34_2_conv[0][0]']   \n",
            " lization)                                                                                        \n",
            "                                                                                                  \n",
            " conv4_block34_2_relu (Activati  (None, 14, 14, 256)  0          ['conv4_block34_2_bn[0][0]']     \n",
            " on)                                                                                              \n",
            "                                                                                                  \n",
            " conv4_block34_3_conv (Conv2D)  (None, 14, 14, 1024  263168      ['conv4_block34_2_relu[0][0]']   \n",
            "                                )                                                                 \n",
            "                                                                                                  \n",
            " conv4_block34_3_bn (BatchNorma  (None, 14, 14, 1024  4096       ['conv4_block34_3_conv[0][0]']   \n",
            " lization)                      )                                                                 \n",
            "                                                                                                  \n",
            " conv4_block34_add (Add)        (None, 14, 14, 1024  0           ['conv4_block33_out[0][0]',      \n",
            "                                )                                 'conv4_block34_3_bn[0][0]']     \n",
            "                                                                                                  \n",
            " conv4_block34_out (Activation)  (None, 14, 14, 1024  0          ['conv4_block34_add[0][0]']      \n",
            "                                )                                                                 \n",
            "                                                                                                  \n",
            " conv4_block35_1_conv (Conv2D)  (None, 14, 14, 256)  262400      ['conv4_block34_out[0][0]']      \n",
            "                                                                                                  \n",
            " conv4_block35_1_bn (BatchNorma  (None, 14, 14, 256)  1024       ['conv4_block35_1_conv[0][0]']   \n",
            " lization)                                                                                        \n",
            "                                                                                                  \n",
            " conv4_block35_1_relu (Activati  (None, 14, 14, 256)  0          ['conv4_block35_1_bn[0][0]']     \n",
            " on)                                                                                              \n",
            "                                                                                                  \n",
            " conv4_block35_2_conv (Conv2D)  (None, 14, 14, 256)  590080      ['conv4_block35_1_relu[0][0]']   \n",
            "                                                                                                  \n",
            " conv4_block35_2_bn (BatchNorma  (None, 14, 14, 256)  1024       ['conv4_block35_2_conv[0][0]']   \n",
            " lization)                                                                                        \n",
            "                                                                                                  \n",
            " conv4_block35_2_relu (Activati  (None, 14, 14, 256)  0          ['conv4_block35_2_bn[0][0]']     \n",
            " on)                                                                                              \n",
            "                                                                                                  \n",
            " conv4_block35_3_conv (Conv2D)  (None, 14, 14, 1024  263168      ['conv4_block35_2_relu[0][0]']   \n",
            "                                )                                                                 \n",
            "                                                                                                  \n",
            " conv4_block35_3_bn (BatchNorma  (None, 14, 14, 1024  4096       ['conv4_block35_3_conv[0][0]']   \n",
            " lization)                      )                                                                 \n",
            "                                                                                                  \n",
            " conv4_block35_add (Add)        (None, 14, 14, 1024  0           ['conv4_block34_out[0][0]',      \n",
            "                                )                                 'conv4_block35_3_bn[0][0]']     \n",
            "                                                                                                  \n",
            " conv4_block35_out (Activation)  (None, 14, 14, 1024  0          ['conv4_block35_add[0][0]']      \n",
            "                                )                                                                 \n",
            "                                                                                                  \n",
            " conv4_block36_1_conv (Conv2D)  (None, 14, 14, 256)  262400      ['conv4_block35_out[0][0]']      \n",
            "                                                                                                  \n",
            " conv4_block36_1_bn (BatchNorma  (None, 14, 14, 256)  1024       ['conv4_block36_1_conv[0][0]']   \n",
            " lization)                                                                                        \n",
            "                                                                                                  \n",
            " conv4_block36_1_relu (Activati  (None, 14, 14, 256)  0          ['conv4_block36_1_bn[0][0]']     \n",
            " on)                                                                                              \n",
            "                                                                                                  \n",
            " conv4_block36_2_conv (Conv2D)  (None, 14, 14, 256)  590080      ['conv4_block36_1_relu[0][0]']   \n",
            "                                                                                                  \n",
            " conv4_block36_2_bn (BatchNorma  (None, 14, 14, 256)  1024       ['conv4_block36_2_conv[0][0]']   \n",
            " lization)                                                                                        \n",
            "                                                                                                  \n",
            " conv4_block36_2_relu (Activati  (None, 14, 14, 256)  0          ['conv4_block36_2_bn[0][0]']     \n",
            " on)                                                                                              \n",
            "                                                                                                  \n",
            " conv4_block36_3_conv (Conv2D)  (None, 14, 14, 1024  263168      ['conv4_block36_2_relu[0][0]']   \n",
            "                                )                                                                 \n",
            "                                                                                                  \n",
            " conv4_block36_3_bn (BatchNorma  (None, 14, 14, 1024  4096       ['conv4_block36_3_conv[0][0]']   \n",
            " lization)                      )                                                                 \n",
            "                                                                                                  \n",
            " conv4_block36_add (Add)        (None, 14, 14, 1024  0           ['conv4_block35_out[0][0]',      \n",
            "                                )                                 'conv4_block36_3_bn[0][0]']     \n",
            "                                                                                                  \n",
            " conv4_block36_out (Activation)  (None, 14, 14, 1024  0          ['conv4_block36_add[0][0]']      \n",
            "                                )                                                                 \n",
            "                                                                                                  \n",
            " conv5_block1_1_conv (Conv2D)   (None, 7, 7, 512)    524800      ['conv4_block36_out[0][0]']      \n",
            "                                                                                                  \n",
            " conv5_block1_1_bn (BatchNormal  (None, 7, 7, 512)   2048        ['conv5_block1_1_conv[0][0]']    \n",
            " ization)                                                                                         \n",
            "                                                                                                  \n",
            " conv5_block1_1_relu (Activatio  (None, 7, 7, 512)   0           ['conv5_block1_1_bn[0][0]']      \n",
            " n)                                                                                               \n",
            "                                                                                                  \n",
            " conv5_block1_2_conv (Conv2D)   (None, 7, 7, 512)    2359808     ['conv5_block1_1_relu[0][0]']    \n",
            "                                                                                                  \n",
            " conv5_block1_2_bn (BatchNormal  (None, 7, 7, 512)   2048        ['conv5_block1_2_conv[0][0]']    \n",
            " ization)                                                                                         \n",
            "                                                                                                  \n",
            " conv5_block1_2_relu (Activatio  (None, 7, 7, 512)   0           ['conv5_block1_2_bn[0][0]']      \n",
            " n)                                                                                               \n",
            "                                                                                                  \n",
            " conv5_block1_0_conv (Conv2D)   (None, 7, 7, 2048)   2099200     ['conv4_block36_out[0][0]']      \n",
            "                                                                                                  \n",
            " conv5_block1_3_conv (Conv2D)   (None, 7, 7, 2048)   1050624     ['conv5_block1_2_relu[0][0]']    \n",
            "                                                                                                  \n",
            " conv5_block1_0_bn (BatchNormal  (None, 7, 7, 2048)  8192        ['conv5_block1_0_conv[0][0]']    \n",
            " ization)                                                                                         \n",
            "                                                                                                  \n",
            " conv5_block1_3_bn (BatchNormal  (None, 7, 7, 2048)  8192        ['conv5_block1_3_conv[0][0]']    \n",
            " ization)                                                                                         \n",
            "                                                                                                  \n",
            " conv5_block1_add (Add)         (None, 7, 7, 2048)   0           ['conv5_block1_0_bn[0][0]',      \n",
            "                                                                  'conv5_block1_3_bn[0][0]']      \n",
            "                                                                                                  \n",
            " conv5_block1_out (Activation)  (None, 7, 7, 2048)   0           ['conv5_block1_add[0][0]']       \n",
            "                                                                                                  \n",
            " conv5_block2_1_conv (Conv2D)   (None, 7, 7, 512)    1049088     ['conv5_block1_out[0][0]']       \n",
            "                                                                                                  \n",
            " conv5_block2_1_bn (BatchNormal  (None, 7, 7, 512)   2048        ['conv5_block2_1_conv[0][0]']    \n",
            " ization)                                                                                         \n",
            "                                                                                                  \n",
            " conv5_block2_1_relu (Activatio  (None, 7, 7, 512)   0           ['conv5_block2_1_bn[0][0]']      \n",
            " n)                                                                                               \n",
            "                                                                                                  \n",
            " conv5_block2_2_conv (Conv2D)   (None, 7, 7, 512)    2359808     ['conv5_block2_1_relu[0][0]']    \n",
            "                                                                                                  \n",
            " conv5_block2_2_bn (BatchNormal  (None, 7, 7, 512)   2048        ['conv5_block2_2_conv[0][0]']    \n",
            " ization)                                                                                         \n",
            "                                                                                                  \n",
            " conv5_block2_2_relu (Activatio  (None, 7, 7, 512)   0           ['conv5_block2_2_bn[0][0]']      \n",
            " n)                                                                                               \n",
            "                                                                                                  \n",
            " conv5_block2_3_conv (Conv2D)   (None, 7, 7, 2048)   1050624     ['conv5_block2_2_relu[0][0]']    \n",
            "                                                                                                  \n",
            " conv5_block2_3_bn (BatchNormal  (None, 7, 7, 2048)  8192        ['conv5_block2_3_conv[0][0]']    \n",
            " ization)                                                                                         \n",
            "                                                                                                  \n",
            " conv5_block2_add (Add)         (None, 7, 7, 2048)   0           ['conv5_block1_out[0][0]',       \n",
            "                                                                  'conv5_block2_3_bn[0][0]']      \n",
            "                                                                                                  \n",
            " conv5_block2_out (Activation)  (None, 7, 7, 2048)   0           ['conv5_block2_add[0][0]']       \n",
            "                                                                                                  \n",
            " conv5_block3_1_conv (Conv2D)   (None, 7, 7, 512)    1049088     ['conv5_block2_out[0][0]']       \n",
            "                                                                                                  \n",
            " conv5_block3_1_bn (BatchNormal  (None, 7, 7, 512)   2048        ['conv5_block3_1_conv[0][0]']    \n",
            " ization)                                                                                         \n",
            "                                                                                                  \n",
            " conv5_block3_1_relu (Activatio  (None, 7, 7, 512)   0           ['conv5_block3_1_bn[0][0]']      \n",
            " n)                                                                                               \n",
            "                                                                                                  \n",
            " conv5_block3_2_conv (Conv2D)   (None, 7, 7, 512)    2359808     ['conv5_block3_1_relu[0][0]']    \n",
            "                                                                                                  \n",
            " conv5_block3_2_bn (BatchNormal  (None, 7, 7, 512)   2048        ['conv5_block3_2_conv[0][0]']    \n",
            " ization)                                                                                         \n",
            "                                                                                                  \n",
            " conv5_block3_2_relu (Activatio  (None, 7, 7, 512)   0           ['conv5_block3_2_bn[0][0]']      \n",
            " n)                                                                                               \n",
            "                                                                                                  \n",
            " conv5_block3_3_conv (Conv2D)   (None, 7, 7, 2048)   1050624     ['conv5_block3_2_relu[0][0]']    \n",
            "                                                                                                  \n",
            " conv5_block3_3_bn (BatchNormal  (None, 7, 7, 2048)  8192        ['conv5_block3_3_conv[0][0]']    \n",
            " ization)                                                                                         \n",
            "                                                                                                  \n",
            " conv5_block3_add (Add)         (None, 7, 7, 2048)   0           ['conv5_block2_out[0][0]',       \n",
            "                                                                  'conv5_block3_3_bn[0][0]']      \n",
            "                                                                                                  \n",
            " conv5_block3_out (Activation)  (None, 7, 7, 2048)   0           ['conv5_block3_add[0][0]']       \n",
            "                                                                                                  \n",
            "==================================================================================================\n",
            "Total params: 58,370,944\n",
            "Trainable params: 58,219,520\n",
            "Non-trainable params: 151,424\n",
            "__________________________________________________________________________________________________\n"
          ]
        }
      ],
      "source": [
        "conv_base1.summary()"
      ]
    },
    {
      "cell_type": "code",
      "execution_count": null,
      "metadata": {
        "id": "cNKi1nAVC9wO"
      },
      "outputs": [],
      "source": [
        "model2 = Sequential()\n",
        "\n",
        "model2.add(conv_base1)\n",
        "\n",
        "model2.add(Flatten())\n",
        "model2.add(Dense(512,activation=\"relu\"))\n",
        "model2.add(Dense(512,activation=\"relu\"))\n",
        "model2.add(Dropout(0.3))\n",
        "model2.add(Dense(4,activation=\"softmax\"))\n"
      ]
    },
    {
      "cell_type": "code",
      "execution_count": null,
      "metadata": {
        "id": "8vafN4bmDCph"
      },
      "outputs": [],
      "source": [
        "conv_base1.trainable = False"
      ]
    },
    {
      "cell_type": "code",
      "execution_count": null,
      "metadata": {
        "id": "L0OH6uEdDGG6"
      },
      "outputs": [],
      "source": [
        "model2.compile(loss=\"sparse_categorical_crossentropy\",optimizer=\"adam\",metrics=[\"accuracy\"])"
      ]
    },
    {
      "cell_type": "code",
      "execution_count": null,
      "metadata": {
        "colab": {
          "base_uri": "https://localhost:8080/"
        },
        "id": "09CUsnzBDIia",
        "outputId": "cbcce1d4-d19b-4c59-a91e-ff5254c35e04"
      },
      "outputs": [
        {
          "name": "stdout",
          "output_type": "stream",
          "text": [
            "Epoch 1/25\n",
            "179/179 [==============================] - 70s 330ms/step - loss: 3.3264 - accuracy: 0.8358 - val_loss: 0.2849 - val_accuracy: 0.9169\n",
            "Epoch 2/25\n",
            "179/179 [==============================] - 56s 313ms/step - loss: 0.3470 - accuracy: 0.9200 - val_loss: 0.3761 - val_accuracy: 0.9214\n",
            "Epoch 3/25\n",
            "179/179 [==============================] - 56s 316ms/step - loss: 0.2166 - accuracy: 0.9489 - val_loss: 0.3738 - val_accuracy: 0.9169\n",
            "Epoch 4/25\n",
            "179/179 [==============================] - 56s 313ms/step - loss: 0.1603 - accuracy: 0.9606 - val_loss: 0.2263 - val_accuracy: 0.9413\n",
            "Epoch 5/25\n",
            "179/179 [==============================] - 56s 315ms/step - loss: 0.0847 - accuracy: 0.9764 - val_loss: 0.2383 - val_accuracy: 0.9535\n",
            "Epoch 6/25\n",
            "179/179 [==============================] - 56s 312ms/step - loss: 0.1109 - accuracy: 0.9790 - val_loss: 0.3989 - val_accuracy: 0.9336\n",
            "Epoch 7/25\n",
            "179/179 [==============================] - 56s 313ms/step - loss: 0.1455 - accuracy: 0.9753 - val_loss: 0.3495 - val_accuracy: 0.9504\n",
            "Epoch 8/25\n",
            "179/179 [==============================] - 56s 314ms/step - loss: 0.1215 - accuracy: 0.9769 - val_loss: 0.2456 - val_accuracy: 0.9603\n",
            "Epoch 9/25\n",
            "179/179 [==============================] - 56s 313ms/step - loss: 0.0848 - accuracy: 0.9821 - val_loss: 0.5337 - val_accuracy: 0.9153\n",
            "Epoch 10/25\n",
            "179/179 [==============================] - 56s 313ms/step - loss: 0.0572 - accuracy: 0.9869 - val_loss: 0.2485 - val_accuracy: 0.9558\n",
            "Epoch 11/25\n",
            "179/179 [==============================] - 56s 314ms/step - loss: 0.0226 - accuracy: 0.9946 - val_loss: 0.2404 - val_accuracy: 0.9664\n",
            "Epoch 12/25\n",
            "179/179 [==============================] - 56s 313ms/step - loss: 0.0257 - accuracy: 0.9935 - val_loss: 0.2378 - val_accuracy: 0.9725\n",
            "Epoch 13/25\n",
            "179/179 [==============================] - 56s 313ms/step - loss: 0.0535 - accuracy: 0.9914 - val_loss: 0.7977 - val_accuracy: 0.9252\n",
            "Epoch 14/25\n",
            "179/179 [==============================] - 56s 314ms/step - loss: 0.0495 - accuracy: 0.9893 - val_loss: 0.3547 - val_accuracy: 0.9436\n",
            "Epoch 15/25\n",
            "179/179 [==============================] - 56s 314ms/step - loss: 0.0954 - accuracy: 0.9860 - val_loss: 0.1544 - val_accuracy: 0.9573\n",
            "Epoch 16/25\n",
            "179/179 [==============================] - 56s 315ms/step - loss: 0.0603 - accuracy: 0.9876 - val_loss: 0.6348 - val_accuracy: 0.9382\n",
            "Epoch 17/25\n",
            "179/179 [==============================] - 56s 315ms/step - loss: 0.0945 - accuracy: 0.9867 - val_loss: 0.2800 - val_accuracy: 0.9634\n",
            "Epoch 18/25\n",
            "179/179 [==============================] - 56s 316ms/step - loss: 0.0323 - accuracy: 0.9930 - val_loss: 0.2744 - val_accuracy: 0.9626\n",
            "Epoch 19/25\n",
            "179/179 [==============================] - 56s 313ms/step - loss: 0.0076 - accuracy: 0.9977 - val_loss: 0.1886 - val_accuracy: 0.9703\n",
            "Epoch 20/25\n",
            "179/179 [==============================] - 56s 313ms/step - loss: 0.0294 - accuracy: 0.9946 - val_loss: 0.2941 - val_accuracy: 0.9634\n",
            "Epoch 21/25\n",
            "179/179 [==============================] - 56s 315ms/step - loss: 0.0440 - accuracy: 0.9928 - val_loss: 0.5298 - val_accuracy: 0.9497\n",
            "Epoch 22/25\n",
            "179/179 [==============================] - 56s 315ms/step - loss: 0.0177 - accuracy: 0.9965 - val_loss: 0.1751 - val_accuracy: 0.9703\n",
            "Epoch 23/25\n",
            "179/179 [==============================] - 56s 314ms/step - loss: 0.0415 - accuracy: 0.9918 - val_loss: 0.2230 - val_accuracy: 0.9680\n",
            "Epoch 24/25\n",
            "179/179 [==============================] - 56s 315ms/step - loss: 0.0052 - accuracy: 0.9981 - val_loss: 0.1992 - val_accuracy: 0.9695\n",
            "Epoch 25/25\n",
            "179/179 [==============================] - 56s 314ms/step - loss: 0.0028 - accuracy: 0.9988 - val_loss: 0.2068 - val_accuracy: 0.9710\n"
          ]
        }
      ],
      "source": [
        "history = model2.fit(X_train,y_train,epochs=25,validation_data=(X_test,y_test))"
      ]
    },
    {
      "cell_type": "code",
      "execution_count": null,
      "metadata": {
        "colab": {
          "base_uri": "https://localhost:8080/"
        },
        "id": "sbCyB8roDQNs",
        "outputId": "8ff57f2f-e2e9-4ef3-ba9d-927e0f72139d"
      },
      "outputs": [
        {
          "name": "stdout",
          "output_type": "stream",
          "text": [
            "41/41 [==============================] - 10s 250ms/step - loss: 0.2068 - accuracy: 0.9710\n"
          ]
        },
        {
          "data": {
            "text/plain": [
              "[0.20681874454021454, 0.9710144996643066]"
            ]
          },
          "execution_count": 38,
          "metadata": {},
          "output_type": "execute_result"
        }
      ],
      "source": [
        "model2.evaluate(X_test,y_test)"
      ]
    },
    {
      "cell_type": "code",
      "execution_count": null,
      "metadata": {
        "colab": {
          "base_uri": "https://localhost:8080/"
        },
        "id": "3Y2openpGasP",
        "outputId": "9968cd35-d1ca-4873-f8a9-d41d0c6d38c4"
      },
      "outputs": [
        {
          "name": "stdout",
          "output_type": "stream",
          "text": [
            "41/41 [==============================] - 12s 241ms/step\n"
          ]
        },
        {
          "data": {
            "text/plain": [
              "array([0, 0, 0, ..., 3, 3, 3])"
            ]
          },
          "execution_count": 39,
          "metadata": {},
          "output_type": "execute_result"
        }
      ],
      "source": [
        "y_pred = model2.predict(X_test).argmax(axis=1)\n",
        "y_pred"
      ]
    },
    {
      "cell_type": "code",
      "execution_count": null,
      "metadata": {
        "id": "aay1Gm4MHEuR"
      },
      "outputs": [],
      "source": [
        "from sklearn.metrics import confusion_matrix,classification_report,accuracy_score"
      ]
    },
    {
      "cell_type": "code",
      "execution_count": null,
      "metadata": {
        "id": "rdMhmE-OHRcX"
      },
      "outputs": [],
      "source": [
        "confusion_matrix = confusion_matrix(y_test,y_pred)"
      ]
    },
    {
      "cell_type": "code",
      "execution_count": null,
      "metadata": {
        "colab": {
          "base_uri": "https://localhost:8080/"
        },
        "id": "pEJgU0-gMXbx",
        "outputId": "dc116fe8-93b7-42e7-cfd1-d55c47312f1f"
      },
      "outputs": [
        {
          "data": {
            "text/plain": [
              "0.9710144927536232"
            ]
          },
          "execution_count": 42,
          "metadata": {},
          "output_type": "execute_result"
        }
      ],
      "source": [
        "accuracy_score(y_test,y_pred)"
      ]
    },
    {
      "cell_type": "code",
      "execution_count": null,
      "metadata": {
        "colab": {
          "base_uri": "https://localhost:8080/"
        },
        "id": "8vnsAeuUHd2R",
        "outputId": "4ad892f5-db39-45dd-c9f8-bbb14acb207b"
      },
      "outputs": [
        {
          "name": "stdout",
          "output_type": "stream",
          "text": [
            "              precision    recall  f1-score   support\n",
            "\n",
            "           0       0.97      0.92      0.95       300\n",
            "           1       0.92      0.97      0.94       306\n",
            "           2       1.00      1.00      1.00       405\n",
            "           3       0.99      0.98      0.99       300\n",
            "\n",
            "    accuracy                           0.97      1311\n",
            "   macro avg       0.97      0.97      0.97      1311\n",
            "weighted avg       0.97      0.97      0.97      1311\n",
            "\n"
          ]
        }
      ],
      "source": [
        "print(classification_report(y_test,y_pred))"
      ]
    },
    {
      "cell_type": "code",
      "execution_count": null,
      "metadata": {
        "colab": {
          "base_uri": "https://localhost:8080/"
        },
        "id": "gb06bQzFRNak",
        "outputId": "88ad6f50-d5bb-47ca-8abf-5b8ff197e960"
      },
      "outputs": [
        {
          "data": {
            "text/plain": [
              "array([[276,  24,   0,   0],\n",
              "       [  5, 297,   1,   3],\n",
              "       [  0,   0, 405,   0],\n",
              "       [  3,   2,   0, 295]])"
            ]
          },
          "execution_count": 44,
          "metadata": {},
          "output_type": "execute_result"
        }
      ],
      "source": [
        "confusion_matrix"
      ]
    },
    {
      "cell_type": "code",
      "execution_count": null,
      "metadata": {
        "colab": {
          "base_uri": "https://localhost:8080/"
        },
        "id": "ak4Yc-3HNUgj",
        "outputId": "fa395314-fa81-47da-fc6a-b2907bd4d9e3"
      },
      "outputs": [
        {
          "name": "stdout",
          "output_type": "stream",
          "text": [
            "[276 297 405 295]\n",
            "[1003  979  905 1008]\n",
            "[ 8 26  1  3]\n",
            "[24  9  0  5]\n"
          ]
        }
      ],
      "source": [
        "FP = confusion_matrix.sum(axis=0) - np.diag(confusion_matrix)\n",
        "FN = confusion_matrix.sum(axis=1) - np.diag(confusion_matrix)\n",
        "TP = np.diag(confusion_matrix)\n",
        "TN = confusion_matrix.sum() - (FP + FN + TP)\n",
        "print(TP)\n",
        "print(TN)\n",
        "print(FP)\n",
        "print(FN)\n"
      ]
    },
    {
      "cell_type": "code",
      "execution_count": null,
      "metadata": {
        "colab": {
          "base_uri": "https://localhost:8080/",
          "height": 282
        },
        "id": "I0EoA_NFHj3v",
        "outputId": "051868e5-0a14-4a4b-ab71-a9032f4daa58"
      },
      "outputs": [
        {
          "data": {
            "text/plain": [
              "<matplotlib.legend.Legend at 0x7fb9690def10>"
            ]
          },
          "execution_count": 47,
          "metadata": {},
          "output_type": "execute_result"
        },
        {
          "data": {
            "image/png": "[encoded data removed]",
            "text/plain": [
              "<Figure size 432x288 with 1 Axes>"
            ]
          },
          "metadata": {
            "needs_background": "light"
          },
          "output_type": "display_data"
        }
      ],
      "source": [
        "plt.plot(history.history[\"accuracy\"],label=\"train\")\n",
        "plt.plot(history.history[\"val_accuracy\"],label=\"val\")\n",
        "plt.legend()"
      ]
    },
    {
      "cell_type": "code",
      "execution_count": null,
      "metadata": {
        "colab": {
          "base_uri": "https://localhost:8080/",
          "height": 282
        },
        "id": "0SfdV3H-HkZx",
        "outputId": "af2cb554-2902-451c-9f80-3ed2c50a9a04"
      },
      "outputs": [
        {
          "data": {
            "text/plain": [
              "<matplotlib.legend.Legend at 0x7fbb01a16df0>"
            ]
          },
          "execution_count": 48,
          "metadata": {},
          "output_type": "execute_result"
        },
        {
          "data": {
            "image/png": "[encoded data removed]",
            "text/plain": [
              "<Figure size 432x288 with 1 Axes>"
            ]
          },
          "metadata": {
            "needs_background": "light"
          },
          "output_type": "display_data"
        }
      ],
      "source": [
        "plt.plot(history.history[\"loss\"],label=\"train\")\n",
        "plt.plot(history.history[\"val_loss\"],label=\"val\")\n",
        "plt.legend()"
      ]
    },
    {
      "cell_type": "code",
      "execution_count": null,
      "metadata": {
        "id": "WeHhmA_PDR9K"
      },
      "outputs": [],
      "source": [
        "model2.save(\"CNN_MODEL_0_97101.h5\")"
      ]
    }
  ],
  "metadata": {
    "accelerator": "GPU",
    "colab": {
      "provenance": []
    },
    "gpuClass": "standard",
    "kernelspec": {
      "display_name": "Python 3",
      "language": "python",
      "name": "python3"
    },
    "language_info": {
      "codemirror_mode": {
        "name": "ipython",
        "version": 3
      },
      "file_extension": ".py",
      "mimetype": "text/x-python",
      "name": "python",
      "nbconvert_exporter": "python",
      "pygments_lexer": "ipython3",
      "version": "3.8.5"
    }
  },
  "nbformat": 4,
  "nbformat_minor": 0
}